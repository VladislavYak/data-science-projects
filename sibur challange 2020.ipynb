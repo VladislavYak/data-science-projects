{
 "cells": [
  {
   "cell_type": "code",
   "execution_count": 156,
   "metadata": {
    "id": "Imwsplk3BsQc"
   },
   "outputs": [],
   "source": [
    "import pandas as pd\n",
    "import numpy as np\n",
    "import cyrtranslit\n",
    "import re\n",
    "import pycountry\n",
    "from nltk.stem import PorterStemmer\n",
    "from collections import Counter\n",
    "from sklearn.feature_extraction.text import TfidfVectorizer\n",
    "from sklearn.linear_model import LogisticRegression\n",
    "from sklearn.metrics import classification_report, f1_score\n",
    "from scipy.sparse import hstack\n",
    "from sklearn.model_selection import cross_val_score, train_test_split\n",
    "import matplotlib.pyplot as plt\n",
    "from tqdm import tqdm"
   ]
  },
  {
   "cell_type": "code",
   "execution_count": 157,
   "metadata": {
    "colab": {
     "base_uri": "https://localhost:8080/",
     "height": 231
    },
    "id": "lBVFXDMqCjbj",
    "outputId": "ead5191f-f462-4798-bc14-9845a053e743"
   },
   "outputs": [
    {
     "data": {
      "text/html": [
       "<div>\n",
       "<style scoped>\n",
       "    .dataframe tbody tr th:only-of-type {\n",
       "        vertical-align: middle;\n",
       "    }\n",
       "\n",
       "    .dataframe tbody tr th {\n",
       "        vertical-align: top;\n",
       "    }\n",
       "\n",
       "    .dataframe thead th {\n",
       "        text-align: right;\n",
       "    }\n",
       "</style>\n",
       "<table border=\"1\" class=\"dataframe\">\n",
       "  <thead>\n",
       "    <tr style=\"text-align: right;\">\n",
       "      <th></th>\n",
       "      <th>name_1</th>\n",
       "      <th>name_2</th>\n",
       "      <th>is_duplicate</th>\n",
       "    </tr>\n",
       "    <tr>\n",
       "      <th>pair_id</th>\n",
       "      <th></th>\n",
       "      <th></th>\n",
       "      <th></th>\n",
       "    </tr>\n",
       "  </thead>\n",
       "  <tbody>\n",
       "    <tr>\n",
       "      <th>1</th>\n",
       "      <td>Iko Industries Ltd.</td>\n",
       "      <td>Enormous Industrial Trade Pvt., Ltd.</td>\n",
       "      <td>0</td>\n",
       "    </tr>\n",
       "    <tr>\n",
       "      <th>2</th>\n",
       "      <td>Apcotex Industries Ltd.</td>\n",
       "      <td>Technocraft Industries (India) Ltd.</td>\n",
       "      <td>0</td>\n",
       "    </tr>\n",
       "    <tr>\n",
       "      <th>3</th>\n",
       "      <td>Rishichem Distributors Pvt., Ltd.</td>\n",
       "      <td>Dsa</td>\n",
       "      <td>0</td>\n",
       "    </tr>\n",
       "    <tr>\n",
       "      <th>4</th>\n",
       "      <td>Powermax Rubber Factory</td>\n",
       "      <td>Co. One</td>\n",
       "      <td>0</td>\n",
       "    </tr>\n",
       "    <tr>\n",
       "      <th>5</th>\n",
       "      <td>Tress A/S</td>\n",
       "      <td>Longyou Industries Park Zhejiang</td>\n",
       "      <td>0</td>\n",
       "    </tr>\n",
       "    <tr>\n",
       "      <th>...</th>\n",
       "      <td>...</td>\n",
       "      <td>...</td>\n",
       "      <td>...</td>\n",
       "    </tr>\n",
       "    <tr>\n",
       "      <th>497815</th>\n",
       "      <td>BIT-MAT PRODUCTS</td>\n",
       "      <td>The Goodyear Tire and Rubber Company</td>\n",
       "      <td>0</td>\n",
       "    </tr>\n",
       "    <tr>\n",
       "      <th>497816</th>\n",
       "      <td>Bnd Trading Co., Ltd.</td>\n",
       "      <td>Zhong Shan Yue Liang Economy&amp; Trade Imp. &amp; Exp...</td>\n",
       "      <td>0</td>\n",
       "    </tr>\n",
       "    <tr>\n",
       "      <th>497817</th>\n",
       "      <td>Xeikon Industrial Co., Ltd. Of Dongguan City</td>\n",
       "      <td>Yi Cheng Trading Co., Ltd. Of Dongguan City</td>\n",
       "      <td>0</td>\n",
       "    </tr>\n",
       "    <tr>\n",
       "      <th>497818</th>\n",
       "      <td>Shanghai Kechuan Trading Co., Ltd.</td>\n",
       "      <td>Shanghai M&amp;G Stationery Inc.</td>\n",
       "      <td>0</td>\n",
       "    </tr>\n",
       "    <tr>\n",
       "      <th>497819</th>\n",
       "      <td>Dih Wei Industries Co.</td>\n",
       "      <td>Burlington Industries Corporate</td>\n",
       "      <td>0</td>\n",
       "    </tr>\n",
       "  </tbody>\n",
       "</table>\n",
       "<p>497819 rows × 3 columns</p>\n",
       "</div>"
      ],
      "text/plain": [
       "                                               name_1  \\\n",
       "pair_id                                                 \n",
       "1                                 Iko Industries Ltd.   \n",
       "2                             Apcotex Industries Ltd.   \n",
       "3                   Rishichem Distributors Pvt., Ltd.   \n",
       "4                             Powermax Rubber Factory   \n",
       "5                                           Tress A/S   \n",
       "...                                               ...   \n",
       "497815                               BIT-MAT PRODUCTS   \n",
       "497816                          Bnd Trading Co., Ltd.   \n",
       "497817   Xeikon Industrial Co., Ltd. Of Dongguan City   \n",
       "497818             Shanghai Kechuan Trading Co., Ltd.   \n",
       "497819                         Dih Wei Industries Co.   \n",
       "\n",
       "                                                    name_2  is_duplicate  \n",
       "pair_id                                                                   \n",
       "1                     Enormous Industrial Trade Pvt., Ltd.             0  \n",
       "2                      Technocraft Industries (India) Ltd.             0  \n",
       "3                                                      Dsa             0  \n",
       "4                                                  Co. One             0  \n",
       "5                         Longyou Industries Park Zhejiang             0  \n",
       "...                                                    ...           ...  \n",
       "497815                The Goodyear Tire and Rubber Company             0  \n",
       "497816   Zhong Shan Yue Liang Economy& Trade Imp. & Exp...             0  \n",
       "497817         Yi Cheng Trading Co., Ltd. Of Dongguan City             0  \n",
       "497818                        Shanghai M&G Stationery Inc.             0  \n",
       "497819                     Burlington Industries Corporate             0  \n",
       "\n",
       "[497819 rows x 3 columns]"
      ]
     },
     "execution_count": 157,
     "metadata": {},
     "output_type": "execute_result"
    }
   ],
   "source": [
    "train = pd.read_csv('/Users/yakovlev/Downloads/train _sibur.csv', index_col='pair_id')\n",
    "train"
   ]
  },
  {
   "cell_type": "code",
   "execution_count": 158,
   "metadata": {},
   "outputs": [
    {
     "data": {
      "text/plain": [
       "(497819, 3)"
      ]
     },
     "execution_count": 158,
     "metadata": {},
     "output_type": "execute_result"
    }
   ],
   "source": [
    "train.shape"
   ]
  },
  {
   "cell_type": "code",
   "execution_count": 159,
   "metadata": {},
   "outputs": [
    {
     "data": {
      "text/html": [
       "<div>\n",
       "<style scoped>\n",
       "    .dataframe tbody tr th:only-of-type {\n",
       "        vertical-align: middle;\n",
       "    }\n",
       "\n",
       "    .dataframe tbody tr th {\n",
       "        vertical-align: top;\n",
       "    }\n",
       "\n",
       "    .dataframe thead th {\n",
       "        text-align: right;\n",
       "    }\n",
       "</style>\n",
       "<table border=\"1\" class=\"dataframe\">\n",
       "  <thead>\n",
       "    <tr style=\"text-align: right;\">\n",
       "      <th></th>\n",
       "      <th>name_1</th>\n",
       "      <th>name_2</th>\n",
       "      <th>is_duplicate</th>\n",
       "    </tr>\n",
       "    <tr>\n",
       "      <th>pair_id</th>\n",
       "      <th></th>\n",
       "      <th></th>\n",
       "      <th></th>\n",
       "    </tr>\n",
       "  </thead>\n",
       "  <tbody>\n",
       "    <tr>\n",
       "      <th>1</th>\n",
       "      <td>Iko Industries Ltd.</td>\n",
       "      <td>Enormous Industrial Trade Pvt., Ltd.</td>\n",
       "      <td>0</td>\n",
       "    </tr>\n",
       "    <tr>\n",
       "      <th>2</th>\n",
       "      <td>Apcotex Industries Ltd.</td>\n",
       "      <td>Technocraft Industries (India) Ltd.</td>\n",
       "      <td>0</td>\n",
       "    </tr>\n",
       "    <tr>\n",
       "      <th>3</th>\n",
       "      <td>Rishichem Distributors Pvt., Ltd.</td>\n",
       "      <td>Dsa</td>\n",
       "      <td>0</td>\n",
       "    </tr>\n",
       "    <tr>\n",
       "      <th>4</th>\n",
       "      <td>Powermax Rubber Factory</td>\n",
       "      <td>Co. One</td>\n",
       "      <td>0</td>\n",
       "    </tr>\n",
       "    <tr>\n",
       "      <th>5</th>\n",
       "      <td>Tress A/S</td>\n",
       "      <td>Longyou Industries Park Zhejiang</td>\n",
       "      <td>0</td>\n",
       "    </tr>\n",
       "    <tr>\n",
       "      <th>...</th>\n",
       "      <td>...</td>\n",
       "      <td>...</td>\n",
       "      <td>...</td>\n",
       "    </tr>\n",
       "    <tr>\n",
       "      <th>497815</th>\n",
       "      <td>BIT-MAT PRODUCTS</td>\n",
       "      <td>The Goodyear Tire and Rubber Company</td>\n",
       "      <td>0</td>\n",
       "    </tr>\n",
       "    <tr>\n",
       "      <th>497816</th>\n",
       "      <td>Bnd Trading Co., Ltd.</td>\n",
       "      <td>Zhong Shan Yue Liang Economy&amp; Trade Imp. &amp; Exp...</td>\n",
       "      <td>0</td>\n",
       "    </tr>\n",
       "    <tr>\n",
       "      <th>497817</th>\n",
       "      <td>Xeikon Industrial Co., Ltd. Of Dongguan City</td>\n",
       "      <td>Yi Cheng Trading Co., Ltd. Of Dongguan City</td>\n",
       "      <td>0</td>\n",
       "    </tr>\n",
       "    <tr>\n",
       "      <th>497818</th>\n",
       "      <td>Shanghai Kechuan Trading Co., Ltd.</td>\n",
       "      <td>Shanghai M&amp;G Stationery Inc.</td>\n",
       "      <td>0</td>\n",
       "    </tr>\n",
       "    <tr>\n",
       "      <th>497819</th>\n",
       "      <td>Dih Wei Industries Co.</td>\n",
       "      <td>Burlington Industries Corporate</td>\n",
       "      <td>0</td>\n",
       "    </tr>\n",
       "  </tbody>\n",
       "</table>\n",
       "<p>497819 rows × 3 columns</p>\n",
       "</div>"
      ],
      "text/plain": [
       "                                               name_1  \\\n",
       "pair_id                                                 \n",
       "1                                 Iko Industries Ltd.   \n",
       "2                             Apcotex Industries Ltd.   \n",
       "3                   Rishichem Distributors Pvt., Ltd.   \n",
       "4                             Powermax Rubber Factory   \n",
       "5                                           Tress A/S   \n",
       "...                                               ...   \n",
       "497815                               BIT-MAT PRODUCTS   \n",
       "497816                          Bnd Trading Co., Ltd.   \n",
       "497817   Xeikon Industrial Co., Ltd. Of Dongguan City   \n",
       "497818             Shanghai Kechuan Trading Co., Ltd.   \n",
       "497819                         Dih Wei Industries Co.   \n",
       "\n",
       "                                                    name_2  is_duplicate  \n",
       "pair_id                                                                   \n",
       "1                     Enormous Industrial Trade Pvt., Ltd.             0  \n",
       "2                      Technocraft Industries (India) Ltd.             0  \n",
       "3                                                      Dsa             0  \n",
       "4                                                  Co. One             0  \n",
       "5                         Longyou Industries Park Zhejiang             0  \n",
       "...                                                    ...           ...  \n",
       "497815                The Goodyear Tire and Rubber Company             0  \n",
       "497816   Zhong Shan Yue Liang Economy& Trade Imp. & Exp...             0  \n",
       "497817         Yi Cheng Trading Co., Ltd. Of Dongguan City             0  \n",
       "497818                        Shanghai M&G Stationery Inc.             0  \n",
       "497819                     Burlington Industries Corporate             0  \n",
       "\n",
       "[497819 rows x 3 columns]"
      ]
     },
     "execution_count": 159,
     "metadata": {},
     "output_type": "execute_result"
    }
   ],
   "source": [
    "train"
   ]
  },
  {
   "cell_type": "code",
   "execution_count": 160,
   "metadata": {
    "colab": {
     "base_uri": "https://localhost:8080/"
    },
    "id": "xVP6WPvyC6sW",
    "outputId": "f2ffc258-1cca-4cb1-e48e-6bce6f362643"
   },
   "outputs": [
    {
     "name": "stdout",
     "output_type": "stream",
     "text": [
      "<class 'pandas.core.frame.DataFrame'>\n",
      "Int64Index: 497819 entries, 1 to 497819\n",
      "Data columns (total 3 columns):\n",
      " #   Column        Non-Null Count   Dtype \n",
      "---  ------        --------------   ----- \n",
      " 0   name_1        497819 non-null  object\n",
      " 1   name_2        497819 non-null  object\n",
      " 2   is_duplicate  497819 non-null  int64 \n",
      "dtypes: int64(1), object(2)\n",
      "memory usage: 15.2+ MB\n"
     ]
    }
   ],
   "source": [
    "train.info()"
   ]
  },
  {
   "cell_type": "code",
   "execution_count": 161,
   "metadata": {
    "colab": {
     "base_uri": "https://localhost:8080/"
    },
    "id": "sd11eIlaC86n",
    "outputId": "b57ea792-d3de-4127-bdbb-4b66758c9bae"
   },
   "outputs": [
    {
     "name": "stdout",
     "output_type": "stream",
     "text": [
      "<class 'pandas.core.frame.DataFrame'>\n",
      "Int64Index: 497819 entries, 1 to 497819\n",
      "Data columns (total 3 columns):\n",
      " #   Column        Non-Null Count   Dtype \n",
      "---  ------        --------------   ----- \n",
      " 0   name_1        497819 non-null  object\n",
      " 1   name_2        497819 non-null  object\n",
      " 2   is_duplicate  497819 non-null  int64 \n",
      "dtypes: int64(1), object(2)\n",
      "memory usage: 15.2+ MB\n"
     ]
    }
   ],
   "source": [
    "train.drop_duplicates().info()"
   ]
  },
  {
   "cell_type": "markdown",
   "metadata": {},
   "source": [
    "В данных нет дубликатов"
   ]
  },
  {
   "cell_type": "markdown",
   "metadata": {},
   "source": [
    "Напишем функцию, которая получая str на вход, будет оставлять только латинские буквы нижнего регистра"
   ]
  },
  {
   "cell_type": "code",
   "execution_count": 162,
   "metadata": {
    "id": "deaJDROdDFzp"
   },
   "outputs": [],
   "source": [
    "porter = PorterStemmer()\n",
    "def stemming(sentence):\n",
    "    word_list = []\n",
    "    for i in sentence.split():\n",
    "        word_list.append(porter.stem(i))\n",
    "    word_list = \" \".join(word_list)\n",
    "    return \" \".join(re.sub(r'[^A-Za-z]', \" \", word_list).split())"
   ]
  },
  {
   "cell_type": "code",
   "execution_count": 163,
   "metadata": {
    "colab": {
     "base_uri": "https://localhost:8080/",
     "height": 442
    },
    "id": "LR6_jMu0DNab",
    "outputId": "d44847e8-5109-4989-9402-f47f4fde1503"
   },
   "outputs": [
    {
     "data": {
      "text/html": [
       "<div>\n",
       "<style scoped>\n",
       "    .dataframe tbody tr th:only-of-type {\n",
       "        vertical-align: middle;\n",
       "    }\n",
       "\n",
       "    .dataframe tbody tr th {\n",
       "        vertical-align: top;\n",
       "    }\n",
       "\n",
       "    .dataframe thead th {\n",
       "        text-align: right;\n",
       "    }\n",
       "</style>\n",
       "<table border=\"1\" class=\"dataframe\">\n",
       "  <thead>\n",
       "    <tr style=\"text-align: right;\">\n",
       "      <th></th>\n",
       "      <th>name_1</th>\n",
       "      <th>name_2</th>\n",
       "      <th>is_duplicate</th>\n",
       "    </tr>\n",
       "    <tr>\n",
       "      <th>pair_id</th>\n",
       "      <th></th>\n",
       "      <th></th>\n",
       "      <th></th>\n",
       "    </tr>\n",
       "  </thead>\n",
       "  <tbody>\n",
       "    <tr>\n",
       "      <th>1</th>\n",
       "      <td>Iko Industries Ltd.</td>\n",
       "      <td>Enormous Industrial Trade Pvt., Ltd.</td>\n",
       "      <td>0</td>\n",
       "    </tr>\n",
       "    <tr>\n",
       "      <th>2</th>\n",
       "      <td>Apcotex Industries Ltd.</td>\n",
       "      <td>Technocraft Industries (India) Ltd.</td>\n",
       "      <td>0</td>\n",
       "    </tr>\n",
       "    <tr>\n",
       "      <th>3</th>\n",
       "      <td>Rishichem Distributors Pvt., Ltd.</td>\n",
       "      <td>Dsa</td>\n",
       "      <td>0</td>\n",
       "    </tr>\n",
       "    <tr>\n",
       "      <th>4</th>\n",
       "      <td>Powermax Rubber Factory</td>\n",
       "      <td>Co. One</td>\n",
       "      <td>0</td>\n",
       "    </tr>\n",
       "    <tr>\n",
       "      <th>5</th>\n",
       "      <td>Tress A/S</td>\n",
       "      <td>Longyou Industries Park Zhejiang</td>\n",
       "      <td>0</td>\n",
       "    </tr>\n",
       "    <tr>\n",
       "      <th>...</th>\n",
       "      <td>...</td>\n",
       "      <td>...</td>\n",
       "      <td>...</td>\n",
       "    </tr>\n",
       "    <tr>\n",
       "      <th>497815</th>\n",
       "      <td>BIT-MAT PRODUCTS</td>\n",
       "      <td>The Goodyear Tire and Rubber Company</td>\n",
       "      <td>0</td>\n",
       "    </tr>\n",
       "    <tr>\n",
       "      <th>497816</th>\n",
       "      <td>Bnd Trading Co., Ltd.</td>\n",
       "      <td>Zhong Shan Yue Liang Economy&amp; Trade Imp. &amp; Exp...</td>\n",
       "      <td>0</td>\n",
       "    </tr>\n",
       "    <tr>\n",
       "      <th>497817</th>\n",
       "      <td>Xeikon Industrial Co., Ltd. Of Dongguan City</td>\n",
       "      <td>Yi Cheng Trading Co., Ltd. Of Dongguan City</td>\n",
       "      <td>0</td>\n",
       "    </tr>\n",
       "    <tr>\n",
       "      <th>497818</th>\n",
       "      <td>Shanghai Kechuan Trading Co., Ltd.</td>\n",
       "      <td>Shanghai M&amp;G Stationery Inc.</td>\n",
       "      <td>0</td>\n",
       "    </tr>\n",
       "    <tr>\n",
       "      <th>497819</th>\n",
       "      <td>Dih Wei Industries Co.</td>\n",
       "      <td>Burlington Industries Corporate</td>\n",
       "      <td>0</td>\n",
       "    </tr>\n",
       "  </tbody>\n",
       "</table>\n",
       "<p>497819 rows × 3 columns</p>\n",
       "</div>"
      ],
      "text/plain": [
       "                                               name_1  \\\n",
       "pair_id                                                 \n",
       "1                                 Iko Industries Ltd.   \n",
       "2                             Apcotex Industries Ltd.   \n",
       "3                   Rishichem Distributors Pvt., Ltd.   \n",
       "4                             Powermax Rubber Factory   \n",
       "5                                           Tress A/S   \n",
       "...                                               ...   \n",
       "497815                               BIT-MAT PRODUCTS   \n",
       "497816                          Bnd Trading Co., Ltd.   \n",
       "497817   Xeikon Industrial Co., Ltd. Of Dongguan City   \n",
       "497818             Shanghai Kechuan Trading Co., Ltd.   \n",
       "497819                         Dih Wei Industries Co.   \n",
       "\n",
       "                                                    name_2  is_duplicate  \n",
       "pair_id                                                                   \n",
       "1                     Enormous Industrial Trade Pvt., Ltd.             0  \n",
       "2                      Technocraft Industries (India) Ltd.             0  \n",
       "3                                                      Dsa             0  \n",
       "4                                                  Co. One             0  \n",
       "5                         Longyou Industries Park Zhejiang             0  \n",
       "...                                                    ...           ...  \n",
       "497815                The Goodyear Tire and Rubber Company             0  \n",
       "497816   Zhong Shan Yue Liang Economy& Trade Imp. & Exp...             0  \n",
       "497817         Yi Cheng Trading Co., Ltd. Of Dongguan City             0  \n",
       "497818                        Shanghai M&G Stationery Inc.             0  \n",
       "497819                     Burlington Industries Corporate             0  \n",
       "\n",
       "[497819 rows x 3 columns]"
      ]
     },
     "execution_count": 163,
     "metadata": {},
     "output_type": "execute_result"
    }
   ],
   "source": [
    "train"
   ]
  },
  {
   "cell_type": "markdown",
   "metadata": {},
   "source": [
    "Применим данную функцию к датасету train"
   ]
  },
  {
   "cell_type": "code",
   "execution_count": 164,
   "metadata": {
    "colab": {
     "base_uri": "https://localhost:8080/",
     "height": 231
    },
    "id": "jyuAc8JnDS5C",
    "outputId": "4fba0070-0ed5-4103-dadf-d98934b8bd13"
   },
   "outputs": [
    {
     "data": {
      "text/html": [
       "<div>\n",
       "<style scoped>\n",
       "    .dataframe tbody tr th:only-of-type {\n",
       "        vertical-align: middle;\n",
       "    }\n",
       "\n",
       "    .dataframe tbody tr th {\n",
       "        vertical-align: top;\n",
       "    }\n",
       "\n",
       "    .dataframe thead th {\n",
       "        text-align: right;\n",
       "    }\n",
       "</style>\n",
       "<table border=\"1\" class=\"dataframe\">\n",
       "  <thead>\n",
       "    <tr style=\"text-align: right;\">\n",
       "      <th></th>\n",
       "      <th>name_1</th>\n",
       "      <th>name_2</th>\n",
       "      <th>is_duplicate</th>\n",
       "    </tr>\n",
       "    <tr>\n",
       "      <th>pair_id</th>\n",
       "      <th></th>\n",
       "      <th></th>\n",
       "      <th></th>\n",
       "    </tr>\n",
       "  </thead>\n",
       "  <tbody>\n",
       "    <tr>\n",
       "      <th>1</th>\n",
       "      <td>iko industri ltd</td>\n",
       "      <td>enorm industri trade pvt ltd</td>\n",
       "      <td>0</td>\n",
       "    </tr>\n",
       "    <tr>\n",
       "      <th>2</th>\n",
       "      <td>apcotex industri ltd</td>\n",
       "      <td>technocraft industri india ltd</td>\n",
       "      <td>0</td>\n",
       "    </tr>\n",
       "    <tr>\n",
       "      <th>3</th>\n",
       "      <td>rishichem distributor pvt ltd</td>\n",
       "      <td>dsa</td>\n",
       "      <td>0</td>\n",
       "    </tr>\n",
       "    <tr>\n",
       "      <th>4</th>\n",
       "      <td>powermax rubber factori</td>\n",
       "      <td>co one</td>\n",
       "      <td>0</td>\n",
       "    </tr>\n",
       "    <tr>\n",
       "      <th>5</th>\n",
       "      <td>tress a</td>\n",
       "      <td>longyou industri park zhejiang</td>\n",
       "      <td>0</td>\n",
       "    </tr>\n",
       "  </tbody>\n",
       "</table>\n",
       "</div>"
      ],
      "text/plain": [
       "                                name_1                          name_2  \\\n",
       "pair_id                                                                  \n",
       "1                     iko industri ltd    enorm industri trade pvt ltd   \n",
       "2                 apcotex industri ltd  technocraft industri india ltd   \n",
       "3        rishichem distributor pvt ltd                             dsa   \n",
       "4              powermax rubber factori                          co one   \n",
       "5                              tress a  longyou industri park zhejiang   \n",
       "\n",
       "         is_duplicate  \n",
       "pair_id                \n",
       "1                   0  \n",
       "2                   0  \n",
       "3                   0  \n",
       "4                   0  \n",
       "5                   0  "
      ]
     },
     "execution_count": 164,
     "metadata": {},
     "output_type": "execute_result"
    }
   ],
   "source": [
    "train['name_1'] = train['name_1'].apply(stemming).copy()\n",
    "train['name_2'] = train['name_2'].apply(stemming)\n",
    "train.head()"
   ]
  },
  {
   "cell_type": "markdown",
   "metadata": {},
   "source": [
    "Разобьем данные на токены, для этого воспользуемся RegexpTokenizer. В результате получим новые столбцы tokens1 и tokens2 состоящие из списка слов"
   ]
  },
  {
   "cell_type": "code",
   "execution_count": 165,
   "metadata": {
    "colab": {
     "base_uri": "https://localhost:8080/",
     "height": 231
    },
    "id": "TVIXGR1VeKuH",
    "outputId": "6e6f8c5c-3b09-402b-d02e-a539f6bca530"
   },
   "outputs": [
    {
     "data": {
      "text/html": [
       "<div>\n",
       "<style scoped>\n",
       "    .dataframe tbody tr th:only-of-type {\n",
       "        vertical-align: middle;\n",
       "    }\n",
       "\n",
       "    .dataframe tbody tr th {\n",
       "        vertical-align: top;\n",
       "    }\n",
       "\n",
       "    .dataframe thead th {\n",
       "        text-align: right;\n",
       "    }\n",
       "</style>\n",
       "<table border=\"1\" class=\"dataframe\">\n",
       "  <thead>\n",
       "    <tr style=\"text-align: right;\">\n",
       "      <th></th>\n",
       "      <th>name_1</th>\n",
       "      <th>name_2</th>\n",
       "      <th>is_duplicate</th>\n",
       "      <th>tokens1</th>\n",
       "      <th>tokens2</th>\n",
       "    </tr>\n",
       "    <tr>\n",
       "      <th>pair_id</th>\n",
       "      <th></th>\n",
       "      <th></th>\n",
       "      <th></th>\n",
       "      <th></th>\n",
       "      <th></th>\n",
       "    </tr>\n",
       "  </thead>\n",
       "  <tbody>\n",
       "    <tr>\n",
       "      <th>1</th>\n",
       "      <td>iko industri ltd</td>\n",
       "      <td>enorm industri trade pvt ltd</td>\n",
       "      <td>0</td>\n",
       "      <td>[iko, industri, ltd]</td>\n",
       "      <td>[enorm, industri, trade, pvt, ltd]</td>\n",
       "    </tr>\n",
       "    <tr>\n",
       "      <th>2</th>\n",
       "      <td>apcotex industri ltd</td>\n",
       "      <td>technocraft industri india ltd</td>\n",
       "      <td>0</td>\n",
       "      <td>[apcotex, industri, ltd]</td>\n",
       "      <td>[technocraft, industri, india, ltd]</td>\n",
       "    </tr>\n",
       "    <tr>\n",
       "      <th>3</th>\n",
       "      <td>rishichem distributor pvt ltd</td>\n",
       "      <td>dsa</td>\n",
       "      <td>0</td>\n",
       "      <td>[rishichem, distributor, pvt, ltd]</td>\n",
       "      <td>[dsa]</td>\n",
       "    </tr>\n",
       "    <tr>\n",
       "      <th>4</th>\n",
       "      <td>powermax rubber factori</td>\n",
       "      <td>co one</td>\n",
       "      <td>0</td>\n",
       "      <td>[powermax, rubber, factori]</td>\n",
       "      <td>[co, one]</td>\n",
       "    </tr>\n",
       "    <tr>\n",
       "      <th>5</th>\n",
       "      <td>tress a</td>\n",
       "      <td>longyou industri park zhejiang</td>\n",
       "      <td>0</td>\n",
       "      <td>[tress, a]</td>\n",
       "      <td>[longyou, industri, park, zhejiang]</td>\n",
       "    </tr>\n",
       "  </tbody>\n",
       "</table>\n",
       "</div>"
      ],
      "text/plain": [
       "                                name_1                          name_2  \\\n",
       "pair_id                                                                  \n",
       "1                     iko industri ltd    enorm industri trade pvt ltd   \n",
       "2                 apcotex industri ltd  technocraft industri india ltd   \n",
       "3        rishichem distributor pvt ltd                             dsa   \n",
       "4              powermax rubber factori                          co one   \n",
       "5                              tress a  longyou industri park zhejiang   \n",
       "\n",
       "         is_duplicate                             tokens1  \\\n",
       "pair_id                                                     \n",
       "1                   0                [iko, industri, ltd]   \n",
       "2                   0            [apcotex, industri, ltd]   \n",
       "3                   0  [rishichem, distributor, pvt, ltd]   \n",
       "4                   0         [powermax, rubber, factori]   \n",
       "5                   0                          [tress, a]   \n",
       "\n",
       "                                     tokens2  \n",
       "pair_id                                       \n",
       "1         [enorm, industri, trade, pvt, ltd]  \n",
       "2        [technocraft, industri, india, ltd]  \n",
       "3                                      [dsa]  \n",
       "4                                  [co, one]  \n",
       "5        [longyou, industri, park, zhejiang]  "
      ]
     },
     "execution_count": 165,
     "metadata": {},
     "output_type": "execute_result"
    }
   ],
   "source": [
    "from nltk.tokenize import RegexpTokenizer\n",
    "\n",
    "tokenizer = RegexpTokenizer(r'\\w+')\n",
    "\n",
    "train[\"tokens1\"] = train['name_1'].apply(tokenizer.tokenize)\n",
    "train[\"tokens2\"] = train['name_2'].apply(tokenizer.tokenize)\n",
    "train.head()"
   ]
  },
  {
   "cell_type": "markdown",
   "metadata": {},
   "source": [
    "Найдем самые частовстречающиеся слова"
   ]
  },
  {
   "cell_type": "code",
   "execution_count": 166,
   "metadata": {
    "colab": {
     "base_uri": "https://localhost:8080/"
    },
    "id": "-07aykj7hCH3",
    "outputId": "a4b0baf7-9f6a-401b-c12a-2176b51e99cd"
   },
   "outputs": [
    {
     "data": {
      "text/plain": [
       "5788837"
      ]
     },
     "execution_count": 166,
     "metadata": {},
     "output_type": "execute_result"
    }
   ],
   "source": [
    "all_words = [word for tokens in pd.concat([train['tokens1'], train['tokens2']]) for word in tokens]\n",
    "for tokens in train[\"tokens1\"]:\n",
    "    for word in tokens:\n",
    "        all_words.append(word)\n",
    "len(all_words)"
   ]
  },
  {
   "cell_type": "code",
   "execution_count": 167,
   "metadata": {
    "colab": {
     "base_uri": "https://localhost:8080/"
    },
    "id": "xT--ooWTxHhd",
    "outputId": "62336313-ff04-4658-eb68-9a4e635b8176"
   },
   "outputs": [
    {
     "data": {
      "text/plain": [
       "[('ltd', 417253),\n",
       " ('co', 238680),\n",
       " ('inc', 148187),\n",
       " ('intern', 147263),\n",
       " ('industri', 145599),\n",
       " ('De', 135686),\n",
       " ('trade', 100921),\n",
       " ('a', 85191),\n",
       " ('logist', 82399),\n",
       " ('s', 81946),\n",
       " ('pvt', 64454),\n",
       " ('rubber', 63608),\n",
       " ('india', 53961),\n",
       " ('privat', 50301),\n",
       " ('Sa', 49016),\n",
       " ('llc', 47534),\n",
       " ('S', 46979),\n",
       " ('Cv', 43533),\n",
       " ('ltda', 42228),\n",
       " ('c', 41814),\n",
       " ('chemic', 39494),\n",
       " ('product', 36827),\n",
       " ('shanghai', 34276),\n",
       " ('plastic', 34270),\n",
       " ('mexico', 33989),\n",
       " ('imp', 31784),\n",
       " ('corp', 31631),\n",
       " ('corpor', 31546),\n",
       " ('v', 31197),\n",
       " ('exp', 30618)]"
      ]
     },
     "execution_count": 167,
     "metadata": {},
     "output_type": "execute_result"
    }
   ],
   "source": [
    "Counter(all_words).most_common(30)"
   ]
  },
  {
   "cell_type": "markdown",
   "metadata": {},
   "source": [
    "Запишем функцию, которая добавляет x самых частовречающихся слов. x - гиперпараметр, который нужно подбирать при обучении модели"
   ]
  },
  {
   "cell_type": "code",
   "execution_count": 168,
   "metadata": {
    "id": "cVpP1LipzeCs"
   },
   "outputs": [],
   "source": [
    "stop_words = []\n",
    "for x, _ in Counter(all_words).most_common(140):\n",
    "    stop_words.append(x)  "
   ]
  },
  {
   "cell_type": "code",
   "execution_count": 169,
   "metadata": {
    "id": "HukMpF580dc6"
   },
   "outputs": [],
   "source": [
    "stop_words = set(stop_words)"
   ]
  },
  {
   "cell_type": "markdown",
   "metadata": {},
   "source": [
    "Запишем функцию, которая получая на вход строку таблицы, удаляет самые частовречающиеся слова и убирает те слова, длина которых меньше 3 символов. Это она делает для столобцов tokens1 и tokens2"
   ]
  },
  {
   "cell_type": "code",
   "execution_count": 170,
   "metadata": {},
   "outputs": [],
   "source": [
    "def cleaning_tokens(row):\n",
    "    seq_tok1 = []\n",
    "    for word in row['tokens1']:\n",
    "        if (word not in stop_words) and (len(word) >= 3):\n",
    "          seq_tok1.append(word)\n",
    "    row['tokens1'] = \" \".join(seq_tok1)\n",
    "    \n",
    "    seq_tok2 = []\n",
    "    for word in row['tokens2']:\n",
    "        if (word not in stop_words) and (len(word) >= 3):\n",
    "          seq_tok2.append(word)\n",
    "    row['tokens2'] = \" \".join(seq_tok2)\n",
    "    return row"
   ]
  },
  {
   "cell_type": "code",
   "execution_count": 171,
   "metadata": {},
   "outputs": [
    {
     "data": {
      "text/html": [
       "<div>\n",
       "<style scoped>\n",
       "    .dataframe tbody tr th:only-of-type {\n",
       "        vertical-align: middle;\n",
       "    }\n",
       "\n",
       "    .dataframe tbody tr th {\n",
       "        vertical-align: top;\n",
       "    }\n",
       "\n",
       "    .dataframe thead th {\n",
       "        text-align: right;\n",
       "    }\n",
       "</style>\n",
       "<table border=\"1\" class=\"dataframe\">\n",
       "  <thead>\n",
       "    <tr style=\"text-align: right;\">\n",
       "      <th></th>\n",
       "      <th>name_1</th>\n",
       "      <th>name_2</th>\n",
       "      <th>is_duplicate</th>\n",
       "      <th>tokens1</th>\n",
       "      <th>tokens2</th>\n",
       "    </tr>\n",
       "    <tr>\n",
       "      <th>pair_id</th>\n",
       "      <th></th>\n",
       "      <th></th>\n",
       "      <th></th>\n",
       "      <th></th>\n",
       "      <th></th>\n",
       "    </tr>\n",
       "  </thead>\n",
       "  <tbody>\n",
       "    <tr>\n",
       "      <th>1</th>\n",
       "      <td>iko industri ltd</td>\n",
       "      <td>enorm industri trade pvt ltd</td>\n",
       "      <td>0</td>\n",
       "      <td>iko</td>\n",
       "      <td>enorm</td>\n",
       "    </tr>\n",
       "    <tr>\n",
       "      <th>2</th>\n",
       "      <td>apcotex industri ltd</td>\n",
       "      <td>technocraft industri india ltd</td>\n",
       "      <td>0</td>\n",
       "      <td>apcotex</td>\n",
       "      <td>technocraft</td>\n",
       "    </tr>\n",
       "    <tr>\n",
       "      <th>3</th>\n",
       "      <td>rishichem distributor pvt ltd</td>\n",
       "      <td>dsa</td>\n",
       "      <td>0</td>\n",
       "      <td>rishichem distributor</td>\n",
       "      <td>dsa</td>\n",
       "    </tr>\n",
       "    <tr>\n",
       "      <th>4</th>\n",
       "      <td>powermax rubber factori</td>\n",
       "      <td>co one</td>\n",
       "      <td>0</td>\n",
       "      <td>powermax factori</td>\n",
       "      <td>one</td>\n",
       "    </tr>\n",
       "    <tr>\n",
       "      <th>5</th>\n",
       "      <td>tress a</td>\n",
       "      <td>longyou industri park zhejiang</td>\n",
       "      <td>0</td>\n",
       "      <td>tress</td>\n",
       "      <td>longyou park zhejiang</td>\n",
       "    </tr>\n",
       "  </tbody>\n",
       "</table>\n",
       "</div>"
      ],
      "text/plain": [
       "                                name_1                          name_2  \\\n",
       "pair_id                                                                  \n",
       "1                     iko industri ltd    enorm industri trade pvt ltd   \n",
       "2                 apcotex industri ltd  technocraft industri india ltd   \n",
       "3        rishichem distributor pvt ltd                             dsa   \n",
       "4              powermax rubber factori                          co one   \n",
       "5                              tress a  longyou industri park zhejiang   \n",
       "\n",
       "         is_duplicate                tokens1                tokens2  \n",
       "pair_id                                                              \n",
       "1                   0                    iko                  enorm  \n",
       "2                   0                apcotex            technocraft  \n",
       "3                   0  rishichem distributor                    dsa  \n",
       "4                   0       powermax factori                    one  \n",
       "5                   0                  tress  longyou park zhejiang  "
      ]
     },
     "execution_count": 171,
     "metadata": {},
     "output_type": "execute_result"
    }
   ],
   "source": [
    "train = train.apply(cleaning_tokens, axis=1)\n",
    "train.head()"
   ]
  },
  {
   "cell_type": "code",
   "execution_count": null,
   "metadata": {},
   "outputs": [],
   "source": []
  },
  {
   "cell_type": "code",
   "execution_count": null,
   "metadata": {},
   "outputs": [],
   "source": []
  },
  {
   "cell_type": "code",
   "execution_count": 172,
   "metadata": {},
   "outputs": [
    {
     "name": "stderr",
     "output_type": "stream",
     "text": [
      "100%|██████████| 249/249 [04:59<00:00,  1.20s/it]\n"
     ]
    }
   ],
   "source": [
    "countries = [country.name.lower() for country in pycountry.countries]\n",
    "for country in tqdm(countries):\n",
    "    train['tokens1'].replace(re.compile(country), \"\", inplace=True)\n",
    "    train['tokens2'].replace(re.compile(country), \"\", inplace=True)"
   ]
  },
  {
   "cell_type": "code",
   "execution_count": null,
   "metadata": {},
   "outputs": [],
   "source": []
  },
  {
   "cell_type": "code",
   "execution_count": null,
   "metadata": {},
   "outputs": [],
   "source": []
  },
  {
   "cell_type": "markdown",
   "metadata": {},
   "source": [
    "Считаем тестовые данные и выполним функцию стемминга"
   ]
  },
  {
   "cell_type": "code",
   "execution_count": 173,
   "metadata": {},
   "outputs": [
    {
     "data": {
      "text/html": [
       "<div>\n",
       "<style scoped>\n",
       "    .dataframe tbody tr th:only-of-type {\n",
       "        vertical-align: middle;\n",
       "    }\n",
       "\n",
       "    .dataframe tbody tr th {\n",
       "        vertical-align: top;\n",
       "    }\n",
       "\n",
       "    .dataframe thead th {\n",
       "        text-align: right;\n",
       "    }\n",
       "</style>\n",
       "<table border=\"1\" class=\"dataframe\">\n",
       "  <thead>\n",
       "    <tr style=\"text-align: right;\">\n",
       "      <th></th>\n",
       "      <th>name_1</th>\n",
       "      <th>name_2</th>\n",
       "    </tr>\n",
       "    <tr>\n",
       "      <th>pair_id</th>\n",
       "      <th></th>\n",
       "      <th></th>\n",
       "    </tr>\n",
       "  </thead>\n",
       "  <tbody>\n",
       "    <tr>\n",
       "      <th>1</th>\n",
       "      <td>sun blind decor inc</td>\n",
       "      <td>indl De cuautitlan Sa Cv</td>\n",
       "    </tr>\n",
       "    <tr>\n",
       "      <th>2</th>\n",
       "      <td>eih ltd</td>\n",
       "      <td>dongguan wei shi plastic product co ltd</td>\n",
       "    </tr>\n",
       "    <tr>\n",
       "      <th>3</th>\n",
       "      <td>jsh ltd hk</td>\n",
       "      <td>arab shipbuild and repair yard C</td>\n",
       "    </tr>\n",
       "    <tr>\n",
       "      <th>4</th>\n",
       "      <td>better industri ltd</td>\n",
       "      <td>farmacap industria E comercio ltda</td>\n",
       "    </tr>\n",
       "    <tr>\n",
       "      <th>5</th>\n",
       "      <td>equipo inoxid del nort Sa De Cv</td>\n",
       "      <td>bel inc</td>\n",
       "    </tr>\n",
       "  </tbody>\n",
       "</table>\n",
       "</div>"
      ],
      "text/plain": [
       "                                  name_1  \\\n",
       "pair_id                                    \n",
       "1                    sun blind decor inc   \n",
       "2                                eih ltd   \n",
       "3                             jsh ltd hk   \n",
       "4                    better industri ltd   \n",
       "5        equipo inoxid del nort Sa De Cv   \n",
       "\n",
       "                                          name_2  \n",
       "pair_id                                           \n",
       "1                       indl De cuautitlan Sa Cv  \n",
       "2        dongguan wei shi plastic product co ltd  \n",
       "3               arab shipbuild and repair yard C  \n",
       "4             farmacap industria E comercio ltda  \n",
       "5                                        bel inc  "
      ]
     },
     "execution_count": 173,
     "metadata": {},
     "output_type": "execute_result"
    }
   ],
   "source": [
    "test = pd.read_csv('/Users/yakovlev/Downloads/test_sibur.csv', index_col='pair_id')\n",
    "test['name_1'] = test['name_1'].apply(stemming).copy()\n",
    "test['name_2'] = test['name_2'].apply(stemming)\n",
    "test.head()"
   ]
  },
  {
   "cell_type": "markdown",
   "metadata": {},
   "source": [
    "Разобьем слова на токены"
   ]
  },
  {
   "cell_type": "code",
   "execution_count": 174,
   "metadata": {},
   "outputs": [],
   "source": [
    "test[\"tokens1\"] = test['name_1'].apply(tokenizer.tokenize)\n",
    "test[\"tokens2\"] = test['name_2'].apply(tokenizer.tokenize)"
   ]
  },
  {
   "cell_type": "markdown",
   "metadata": {},
   "source": [
    "Почистим токены и переведем список в строку"
   ]
  },
  {
   "cell_type": "code",
   "execution_count": 175,
   "metadata": {},
   "outputs": [
    {
     "data": {
      "text/html": [
       "<div>\n",
       "<style scoped>\n",
       "    .dataframe tbody tr th:only-of-type {\n",
       "        vertical-align: middle;\n",
       "    }\n",
       "\n",
       "    .dataframe tbody tr th {\n",
       "        vertical-align: top;\n",
       "    }\n",
       "\n",
       "    .dataframe thead th {\n",
       "        text-align: right;\n",
       "    }\n",
       "</style>\n",
       "<table border=\"1\" class=\"dataframe\">\n",
       "  <thead>\n",
       "    <tr style=\"text-align: right;\">\n",
       "      <th></th>\n",
       "      <th>name_1</th>\n",
       "      <th>name_2</th>\n",
       "      <th>tokens1</th>\n",
       "      <th>tokens2</th>\n",
       "    </tr>\n",
       "    <tr>\n",
       "      <th>pair_id</th>\n",
       "      <th></th>\n",
       "      <th></th>\n",
       "      <th></th>\n",
       "      <th></th>\n",
       "    </tr>\n",
       "  </thead>\n",
       "  <tbody>\n",
       "    <tr>\n",
       "      <th>1</th>\n",
       "      <td>sun blind decor inc</td>\n",
       "      <td>indl De cuautitlan Sa Cv</td>\n",
       "      <td>sun blind decor</td>\n",
       "      <td>indl cuautitlan</td>\n",
       "    </tr>\n",
       "    <tr>\n",
       "      <th>2</th>\n",
       "      <td>eih ltd</td>\n",
       "      <td>dongguan wei shi plastic product co ltd</td>\n",
       "      <td>eih</td>\n",
       "      <td>wei shi</td>\n",
       "    </tr>\n",
       "    <tr>\n",
       "      <th>3</th>\n",
       "      <td>jsh ltd hk</td>\n",
       "      <td>arab shipbuild and repair yard C</td>\n",
       "      <td>jsh</td>\n",
       "      <td>arab shipbuild repair yard</td>\n",
       "    </tr>\n",
       "    <tr>\n",
       "      <th>4</th>\n",
       "      <td>better industri ltd</td>\n",
       "      <td>farmacap industria E comercio ltda</td>\n",
       "      <td>better</td>\n",
       "      <td>farmacap</td>\n",
       "    </tr>\n",
       "    <tr>\n",
       "      <th>5</th>\n",
       "      <td>equipo inoxid del nort Sa De Cv</td>\n",
       "      <td>bel inc</td>\n",
       "      <td>equipo inoxid del nort</td>\n",
       "      <td>bel</td>\n",
       "    </tr>\n",
       "  </tbody>\n",
       "</table>\n",
       "</div>"
      ],
      "text/plain": [
       "                                  name_1  \\\n",
       "pair_id                                    \n",
       "1                    sun blind decor inc   \n",
       "2                                eih ltd   \n",
       "3                             jsh ltd hk   \n",
       "4                    better industri ltd   \n",
       "5        equipo inoxid del nort Sa De Cv   \n",
       "\n",
       "                                          name_2                 tokens1  \\\n",
       "pair_id                                                                    \n",
       "1                       indl De cuautitlan Sa Cv         sun blind decor   \n",
       "2        dongguan wei shi plastic product co ltd                     eih   \n",
       "3               arab shipbuild and repair yard C                     jsh   \n",
       "4             farmacap industria E comercio ltda                  better   \n",
       "5                                        bel inc  equipo inoxid del nort   \n",
       "\n",
       "                            tokens2  \n",
       "pair_id                              \n",
       "1                   indl cuautitlan  \n",
       "2                           wei shi  \n",
       "3        arab shipbuild repair yard  \n",
       "4                          farmacap  \n",
       "5                               bel  "
      ]
     },
     "execution_count": 175,
     "metadata": {},
     "output_type": "execute_result"
    }
   ],
   "source": [
    "test = test.apply(cleaning_tokens, axis=1)\n",
    "test.head()"
   ]
  },
  {
   "cell_type": "code",
   "execution_count": null,
   "metadata": {},
   "outputs": [],
   "source": []
  },
  {
   "cell_type": "code",
   "execution_count": null,
   "metadata": {},
   "outputs": [],
   "source": []
  },
  {
   "cell_type": "code",
   "execution_count": 176,
   "metadata": {},
   "outputs": [
    {
     "name": "stderr",
     "output_type": "stream",
     "text": [
      "100%|██████████| 249/249 [02:10<00:00,  1.90it/s]\n"
     ]
    }
   ],
   "source": [
    "countries = [country.name.lower() for country in pycountry.countries]\n",
    "for country in tqdm(countries):\n",
    "    test['tokens1'].replace(re.compile(country), \"\", inplace=True)\n",
    "    test['tokens2'].replace(re.compile(country), \"\", inplace=True)"
   ]
  },
  {
   "cell_type": "code",
   "execution_count": null,
   "metadata": {},
   "outputs": [],
   "source": []
  },
  {
   "cell_type": "code",
   "execution_count": null,
   "metadata": {},
   "outputs": [],
   "source": []
  },
  {
   "cell_type": "markdown",
   "metadata": {},
   "source": [
    "# Простые метрики сходства строк"
   ]
  },
  {
   "cell_type": "markdown",
   "metadata": {},
   "source": [
    "## Левенштейн"
   ]
  },
  {
   "cell_type": "code",
   "execution_count": 177,
   "metadata": {},
   "outputs": [
    {
     "name": "stdout",
     "output_type": "stream",
     "text": [
      "<class 'pandas.core.frame.DataFrame'>\n",
      "Int64Index: 497819 entries, 1 to 497819\n",
      "Data columns (total 5 columns):\n",
      " #   Column        Non-Null Count   Dtype \n",
      "---  ------        --------------   ----- \n",
      " 0   name_1        497819 non-null  object\n",
      " 1   name_2        497819 non-null  object\n",
      " 2   is_duplicate  497819 non-null  int64 \n",
      " 3   tokens1       497819 non-null  object\n",
      " 4   tokens2       497819 non-null  object\n",
      "dtypes: int64(1), object(4)\n",
      "memory usage: 22.8+ MB\n"
     ]
    }
   ],
   "source": [
    "train.info()"
   ]
  },
  {
   "cell_type": "code",
   "execution_count": 178,
   "metadata": {},
   "outputs": [
    {
     "name": "stderr",
     "output_type": "stream",
     "text": [
      "/Users/yakovlev/opt/anaconda3/lib/python3.7/site-packages/tqdm/std.py:658: FutureWarning: The Panel class is removed from pandas. Accessing it from the top-level namespace will also be removed in the next version\n",
      "  from pandas import Panel\n"
     ]
    }
   ],
   "source": [
    "from strsimpy.levenshtein import Levenshtein\n",
    "from strsimpy.normalized_levenshtein import NormalizedLevenshtein\n",
    "from tqdm import tqdm\n",
    "tqdm.pandas()"
   ]
  },
  {
   "cell_type": "code",
   "execution_count": 179,
   "metadata": {},
   "outputs": [],
   "source": [
    "levenshtein = Levenshtein()\n",
    "\n",
    "train[\"levenstein\"] = train.apply(lambda r: levenshtein.distance(r.tokens1, r.tokens2), axis=1)\n",
    "test[\"levenstein\"] = test.apply(lambda r: levenshtein.distance(r.tokens1, r.tokens2), axis=1)"
   ]
  },
  {
   "cell_type": "code",
   "execution_count": 180,
   "metadata": {},
   "outputs": [],
   "source": [
    "normalized_levenshtein = NormalizedLevenshtein()\n",
    "\n",
    "train[\"norm_levenstein\"] = train.apply(lambda r: normalized_levenshtein.distance(r.tokens1, r.tokens2),\n",
    "                                                axis=1)\n",
    "test[\"norm_levenstein\"] = test.apply(lambda r: normalized_levenshtein.distance(r.tokens1, r.tokens2),\n",
    "                                              axis=1)"
   ]
  },
  {
   "cell_type": "code",
   "execution_count": 181,
   "metadata": {},
   "outputs": [
    {
     "name": "stdout",
     "output_type": "stream",
     "text": [
      "mean для класса 1 0.512509144557179\n"
     ]
    }
   ],
   "source": [
    "print('mean для класса 1', train[train['is_duplicate'] == 1]['norm_levenstein'].mean())"
   ]
  },
  {
   "cell_type": "code",
   "execution_count": 182,
   "metadata": {},
   "outputs": [
    {
     "name": "stdout",
     "output_type": "stream",
     "text": [
      "mean для класса 0 0.8646763714358655\n"
     ]
    }
   ],
   "source": [
    "print('mean для класса 0', train[train['is_duplicate'] == 0]['norm_levenstein'].mean())"
   ]
  },
  {
   "cell_type": "code",
   "execution_count": 183,
   "metadata": {},
   "outputs": [
    {
     "data": {
      "text/html": [
       "<div>\n",
       "<style scoped>\n",
       "    .dataframe tbody tr th:only-of-type {\n",
       "        vertical-align: middle;\n",
       "    }\n",
       "\n",
       "    .dataframe tbody tr th {\n",
       "        vertical-align: top;\n",
       "    }\n",
       "\n",
       "    .dataframe thead th {\n",
       "        text-align: right;\n",
       "    }\n",
       "</style>\n",
       "<table border=\"1\" class=\"dataframe\">\n",
       "  <thead>\n",
       "    <tr style=\"text-align: right;\">\n",
       "      <th></th>\n",
       "      <th>name_1</th>\n",
       "      <th>name_2</th>\n",
       "      <th>tokens1</th>\n",
       "      <th>tokens2</th>\n",
       "      <th>levenstein</th>\n",
       "      <th>norm_levenstein</th>\n",
       "    </tr>\n",
       "    <tr>\n",
       "      <th>pair_id</th>\n",
       "      <th></th>\n",
       "      <th></th>\n",
       "      <th></th>\n",
       "      <th></th>\n",
       "      <th></th>\n",
       "      <th></th>\n",
       "    </tr>\n",
       "  </thead>\n",
       "  <tbody>\n",
       "    <tr>\n",
       "      <th>1</th>\n",
       "      <td>sun blind decor inc</td>\n",
       "      <td>indl De cuautitlan Sa Cv</td>\n",
       "      <td>sun blind decor</td>\n",
       "      <td>indl cuautitlan</td>\n",
       "      <td>15.0</td>\n",
       "      <td>1.000000</td>\n",
       "    </tr>\n",
       "    <tr>\n",
       "      <th>2</th>\n",
       "      <td>eih ltd</td>\n",
       "      <td>dongguan wei shi plastic product co ltd</td>\n",
       "      <td>eih</td>\n",
       "      <td>wei shi</td>\n",
       "      <td>4.0</td>\n",
       "      <td>0.571429</td>\n",
       "    </tr>\n",
       "    <tr>\n",
       "      <th>3</th>\n",
       "      <td>jsh ltd hk</td>\n",
       "      <td>arab shipbuild and repair yard C</td>\n",
       "      <td>jsh</td>\n",
       "      <td>arab shipbuild repair yard</td>\n",
       "      <td>24.0</td>\n",
       "      <td>0.923077</td>\n",
       "    </tr>\n",
       "    <tr>\n",
       "      <th>4</th>\n",
       "      <td>better industri ltd</td>\n",
       "      <td>farmacap industria E comercio ltda</td>\n",
       "      <td>better</td>\n",
       "      <td>farmacap</td>\n",
       "      <td>8.0</td>\n",
       "      <td>1.000000</td>\n",
       "    </tr>\n",
       "    <tr>\n",
       "      <th>5</th>\n",
       "      <td>equipo inoxid del nort Sa De Cv</td>\n",
       "      <td>bel inc</td>\n",
       "      <td>equipo inoxid del nort</td>\n",
       "      <td>bel</td>\n",
       "      <td>20.0</td>\n",
       "      <td>0.909091</td>\n",
       "    </tr>\n",
       "  </tbody>\n",
       "</table>\n",
       "</div>"
      ],
      "text/plain": [
       "                                  name_1  \\\n",
       "pair_id                                    \n",
       "1                    sun blind decor inc   \n",
       "2                                eih ltd   \n",
       "3                             jsh ltd hk   \n",
       "4                    better industri ltd   \n",
       "5        equipo inoxid del nort Sa De Cv   \n",
       "\n",
       "                                          name_2                 tokens1  \\\n",
       "pair_id                                                                    \n",
       "1                       indl De cuautitlan Sa Cv         sun blind decor   \n",
       "2        dongguan wei shi plastic product co ltd                     eih   \n",
       "3               arab shipbuild and repair yard C                     jsh   \n",
       "4             farmacap industria E comercio ltda                  better   \n",
       "5                                        bel inc  equipo inoxid del nort   \n",
       "\n",
       "                            tokens2  levenstein  norm_levenstein  \n",
       "pair_id                                                           \n",
       "1                   indl cuautitlan        15.0         1.000000  \n",
       "2                           wei shi         4.0         0.571429  \n",
       "3        arab shipbuild repair yard        24.0         0.923077  \n",
       "4                          farmacap         8.0         1.000000  \n",
       "5                               bel        20.0         0.909091  "
      ]
     },
     "execution_count": 183,
     "metadata": {},
     "output_type": "execute_result"
    }
   ],
   "source": [
    "test.head()"
   ]
  },
  {
   "cell_type": "code",
   "execution_count": 184,
   "metadata": {},
   "outputs": [
    {
     "data": {
      "image/png": "[encoded data removed]",
      "text/plain": [
       "<Figure size 432x432 with 1 Axes>"
      ]
     },
     "metadata": {
      "needs_background": "light"
     },
     "output_type": "display_data"
    }
   ],
   "source": [
    "plt.figure(figsize=(6,6))\n",
    "\n",
    "train.boxplot(\"levenstein\", by=\"is_duplicate\", ax=plt.gca())\n",
    "plt.suptitle(\"\")\n",
    "plt.title(\"Levenstein  distance\", fontsize=12);"
   ]
  },
  {
   "cell_type": "code",
   "execution_count": 185,
   "metadata": {},
   "outputs": [
    {
     "data": {
      "image/png": "[encoded data removed]",
      "text/plain": [
       "<Figure size 432x432 with 1 Axes>"
      ]
     },
     "metadata": {
      "needs_background": "light"
     },
     "output_type": "display_data"
    }
   ],
   "source": [
    "plt.figure(figsize=(6,6))\n",
    "\n",
    "train.boxplot(\"norm_levenstein\", by=\"is_duplicate\", ax=plt.gca())\n",
    "plt.suptitle(\"\")\n",
    "plt.title(\"Normalized levenstein  distance\", fontsize=12);"
   ]
  },
  {
   "cell_type": "markdown",
   "metadata": {},
   "source": [
    "## Джакар"
   ]
  },
  {
   "cell_type": "markdown",
   "metadata": {},
   "source": [
    "Реализация Jacaard Similiarity"
   ]
  },
  {
   "cell_type": "code",
   "execution_count": 186,
   "metadata": {},
   "outputs": [],
   "source": [
    "def get_jaccard_sim(row):\n",
    "    if (row['name_1'] == '') or (row['name_2'] == ''):\n",
    "        return 0\n",
    "    else:\n",
    "        a = set(row['name_1'].split()) \n",
    "        b = set(row['name_2'].split())\n",
    "        c = a.intersection(b)\n",
    "        return float(len(c)) / (len(a) + len(b) - len(c))"
   ]
  },
  {
   "cell_type": "code",
   "execution_count": 187,
   "metadata": {},
   "outputs": [
    {
     "data": {
      "text/html": [
       "<div>\n",
       "<style scoped>\n",
       "    .dataframe tbody tr th:only-of-type {\n",
       "        vertical-align: middle;\n",
       "    }\n",
       "\n",
       "    .dataframe tbody tr th {\n",
       "        vertical-align: top;\n",
       "    }\n",
       "\n",
       "    .dataframe thead th {\n",
       "        text-align: right;\n",
       "    }\n",
       "</style>\n",
       "<table border=\"1\" class=\"dataframe\">\n",
       "  <thead>\n",
       "    <tr style=\"text-align: right;\">\n",
       "      <th></th>\n",
       "      <th>name_1</th>\n",
       "      <th>name_2</th>\n",
       "      <th>is_duplicate</th>\n",
       "      <th>tokens1</th>\n",
       "      <th>tokens2</th>\n",
       "      <th>levenstein</th>\n",
       "      <th>norm_levenstein</th>\n",
       "    </tr>\n",
       "    <tr>\n",
       "      <th>pair_id</th>\n",
       "      <th></th>\n",
       "      <th></th>\n",
       "      <th></th>\n",
       "      <th></th>\n",
       "      <th></th>\n",
       "      <th></th>\n",
       "      <th></th>\n",
       "    </tr>\n",
       "  </thead>\n",
       "  <tbody>\n",
       "    <tr>\n",
       "      <th>1</th>\n",
       "      <td>iko industri ltd</td>\n",
       "      <td>enorm industri trade pvt ltd</td>\n",
       "      <td>0</td>\n",
       "      <td>iko</td>\n",
       "      <td>enorm</td>\n",
       "      <td>4.0</td>\n",
       "      <td>0.800000</td>\n",
       "    </tr>\n",
       "    <tr>\n",
       "      <th>2</th>\n",
       "      <td>apcotex industri ltd</td>\n",
       "      <td>technocraft industri india ltd</td>\n",
       "      <td>0</td>\n",
       "      <td>apcotex</td>\n",
       "      <td>technocraft</td>\n",
       "      <td>9.0</td>\n",
       "      <td>0.818182</td>\n",
       "    </tr>\n",
       "    <tr>\n",
       "      <th>3</th>\n",
       "      <td>rishichem distributor pvt ltd</td>\n",
       "      <td>dsa</td>\n",
       "      <td>0</td>\n",
       "      <td>rishichem distributor</td>\n",
       "      <td>dsa</td>\n",
       "      <td>19.0</td>\n",
       "      <td>0.904762</td>\n",
       "    </tr>\n",
       "    <tr>\n",
       "      <th>4</th>\n",
       "      <td>powermax rubber factori</td>\n",
       "      <td>co one</td>\n",
       "      <td>0</td>\n",
       "      <td>powermax factori</td>\n",
       "      <td>one</td>\n",
       "      <td>14.0</td>\n",
       "      <td>0.875000</td>\n",
       "    </tr>\n",
       "    <tr>\n",
       "      <th>5</th>\n",
       "      <td>tress a</td>\n",
       "      <td>longyou industri park zhejiang</td>\n",
       "      <td>0</td>\n",
       "      <td>tress</td>\n",
       "      <td>longyou park zhejiang</td>\n",
       "      <td>19.0</td>\n",
       "      <td>0.904762</td>\n",
       "    </tr>\n",
       "  </tbody>\n",
       "</table>\n",
       "</div>"
      ],
      "text/plain": [
       "                                name_1                          name_2  \\\n",
       "pair_id                                                                  \n",
       "1                     iko industri ltd    enorm industri trade pvt ltd   \n",
       "2                 apcotex industri ltd  technocraft industri india ltd   \n",
       "3        rishichem distributor pvt ltd                             dsa   \n",
       "4              powermax rubber factori                          co one   \n",
       "5                              tress a  longyou industri park zhejiang   \n",
       "\n",
       "         is_duplicate                tokens1                tokens2  \\\n",
       "pair_id                                                               \n",
       "1                   0                    iko                  enorm   \n",
       "2                   0                apcotex            technocraft   \n",
       "3                   0  rishichem distributor                    dsa   \n",
       "4                   0       powermax factori                    one   \n",
       "5                   0                  tress  longyou park zhejiang   \n",
       "\n",
       "         levenstein  norm_levenstein  \n",
       "pair_id                               \n",
       "1               4.0         0.800000  \n",
       "2               9.0         0.818182  \n",
       "3              19.0         0.904762  \n",
       "4              14.0         0.875000  \n",
       "5              19.0         0.904762  "
      ]
     },
     "execution_count": 187,
     "metadata": {},
     "output_type": "execute_result"
    }
   ],
   "source": [
    "train.head()"
   ]
  },
  {
   "cell_type": "code",
   "execution_count": 188,
   "metadata": {},
   "outputs": [],
   "source": [
    "train['jacaard_sim'] = train.apply(get_jaccard_sim, axis=1)\n",
    "test['jacaard_sim'] = test.apply(get_jaccard_sim, axis=1)"
   ]
  },
  {
   "cell_type": "code",
   "execution_count": 189,
   "metadata": {},
   "outputs": [
    {
     "data": {
      "text/html": [
       "<div>\n",
       "<style scoped>\n",
       "    .dataframe tbody tr th:only-of-type {\n",
       "        vertical-align: middle;\n",
       "    }\n",
       "\n",
       "    .dataframe tbody tr th {\n",
       "        vertical-align: top;\n",
       "    }\n",
       "\n",
       "    .dataframe thead th {\n",
       "        text-align: right;\n",
       "    }\n",
       "</style>\n",
       "<table border=\"1\" class=\"dataframe\">\n",
       "  <thead>\n",
       "    <tr style=\"text-align: right;\">\n",
       "      <th></th>\n",
       "      <th>name_1</th>\n",
       "      <th>name_2</th>\n",
       "      <th>is_duplicate</th>\n",
       "      <th>tokens1</th>\n",
       "      <th>tokens2</th>\n",
       "      <th>levenstein</th>\n",
       "      <th>norm_levenstein</th>\n",
       "      <th>jacaard_sim</th>\n",
       "    </tr>\n",
       "    <tr>\n",
       "      <th>pair_id</th>\n",
       "      <th></th>\n",
       "      <th></th>\n",
       "      <th></th>\n",
       "      <th></th>\n",
       "      <th></th>\n",
       "      <th></th>\n",
       "      <th></th>\n",
       "      <th></th>\n",
       "    </tr>\n",
       "  </thead>\n",
       "  <tbody>\n",
       "    <tr>\n",
       "      <th>1</th>\n",
       "      <td>iko industri ltd</td>\n",
       "      <td>enorm industri trade pvt ltd</td>\n",
       "      <td>0</td>\n",
       "      <td>iko</td>\n",
       "      <td>enorm</td>\n",
       "      <td>4.0</td>\n",
       "      <td>0.800000</td>\n",
       "      <td>0.333333</td>\n",
       "    </tr>\n",
       "    <tr>\n",
       "      <th>2</th>\n",
       "      <td>apcotex industri ltd</td>\n",
       "      <td>technocraft industri india ltd</td>\n",
       "      <td>0</td>\n",
       "      <td>apcotex</td>\n",
       "      <td>technocraft</td>\n",
       "      <td>9.0</td>\n",
       "      <td>0.818182</td>\n",
       "      <td>0.400000</td>\n",
       "    </tr>\n",
       "    <tr>\n",
       "      <th>3</th>\n",
       "      <td>rishichem distributor pvt ltd</td>\n",
       "      <td>dsa</td>\n",
       "      <td>0</td>\n",
       "      <td>rishichem distributor</td>\n",
       "      <td>dsa</td>\n",
       "      <td>19.0</td>\n",
       "      <td>0.904762</td>\n",
       "      <td>0.000000</td>\n",
       "    </tr>\n",
       "    <tr>\n",
       "      <th>4</th>\n",
       "      <td>powermax rubber factori</td>\n",
       "      <td>co one</td>\n",
       "      <td>0</td>\n",
       "      <td>powermax factori</td>\n",
       "      <td>one</td>\n",
       "      <td>14.0</td>\n",
       "      <td>0.875000</td>\n",
       "      <td>0.000000</td>\n",
       "    </tr>\n",
       "    <tr>\n",
       "      <th>5</th>\n",
       "      <td>tress a</td>\n",
       "      <td>longyou industri park zhejiang</td>\n",
       "      <td>0</td>\n",
       "      <td>tress</td>\n",
       "      <td>longyou park zhejiang</td>\n",
       "      <td>19.0</td>\n",
       "      <td>0.904762</td>\n",
       "      <td>0.000000</td>\n",
       "    </tr>\n",
       "  </tbody>\n",
       "</table>\n",
       "</div>"
      ],
      "text/plain": [
       "                                name_1                          name_2  \\\n",
       "pair_id                                                                  \n",
       "1                     iko industri ltd    enorm industri trade pvt ltd   \n",
       "2                 apcotex industri ltd  technocraft industri india ltd   \n",
       "3        rishichem distributor pvt ltd                             dsa   \n",
       "4              powermax rubber factori                          co one   \n",
       "5                              tress a  longyou industri park zhejiang   \n",
       "\n",
       "         is_duplicate                tokens1                tokens2  \\\n",
       "pair_id                                                               \n",
       "1                   0                    iko                  enorm   \n",
       "2                   0                apcotex            technocraft   \n",
       "3                   0  rishichem distributor                    dsa   \n",
       "4                   0       powermax factori                    one   \n",
       "5                   0                  tress  longyou park zhejiang   \n",
       "\n",
       "         levenstein  norm_levenstein  jacaard_sim  \n",
       "pair_id                                            \n",
       "1               4.0         0.800000     0.333333  \n",
       "2               9.0         0.818182     0.400000  \n",
       "3              19.0         0.904762     0.000000  \n",
       "4              14.0         0.875000     0.000000  \n",
       "5              19.0         0.904762     0.000000  "
      ]
     },
     "execution_count": 189,
     "metadata": {},
     "output_type": "execute_result"
    }
   ],
   "source": [
    "train.head()"
   ]
  },
  {
   "cell_type": "code",
   "execution_count": 190,
   "metadata": {},
   "outputs": [
    {
     "data": {
      "text/html": [
       "<div>\n",
       "<style scoped>\n",
       "    .dataframe tbody tr th:only-of-type {\n",
       "        vertical-align: middle;\n",
       "    }\n",
       "\n",
       "    .dataframe tbody tr th {\n",
       "        vertical-align: top;\n",
       "    }\n",
       "\n",
       "    .dataframe thead th {\n",
       "        text-align: right;\n",
       "    }\n",
       "</style>\n",
       "<table border=\"1\" class=\"dataframe\">\n",
       "  <thead>\n",
       "    <tr style=\"text-align: right;\">\n",
       "      <th></th>\n",
       "      <th>name_1</th>\n",
       "      <th>name_2</th>\n",
       "      <th>tokens1</th>\n",
       "      <th>tokens2</th>\n",
       "      <th>levenstein</th>\n",
       "      <th>norm_levenstein</th>\n",
       "      <th>jacaard_sim</th>\n",
       "    </tr>\n",
       "    <tr>\n",
       "      <th>pair_id</th>\n",
       "      <th></th>\n",
       "      <th></th>\n",
       "      <th></th>\n",
       "      <th></th>\n",
       "      <th></th>\n",
       "      <th></th>\n",
       "      <th></th>\n",
       "    </tr>\n",
       "  </thead>\n",
       "  <tbody>\n",
       "    <tr>\n",
       "      <th>1</th>\n",
       "      <td>sun blind decor inc</td>\n",
       "      <td>indl De cuautitlan Sa Cv</td>\n",
       "      <td>sun blind decor</td>\n",
       "      <td>indl cuautitlan</td>\n",
       "      <td>15.0</td>\n",
       "      <td>1.000000</td>\n",
       "      <td>0.000</td>\n",
       "    </tr>\n",
       "    <tr>\n",
       "      <th>2</th>\n",
       "      <td>eih ltd</td>\n",
       "      <td>dongguan wei shi plastic product co ltd</td>\n",
       "      <td>eih</td>\n",
       "      <td>wei shi</td>\n",
       "      <td>4.0</td>\n",
       "      <td>0.571429</td>\n",
       "      <td>0.125</td>\n",
       "    </tr>\n",
       "    <tr>\n",
       "      <th>3</th>\n",
       "      <td>jsh ltd hk</td>\n",
       "      <td>arab shipbuild and repair yard C</td>\n",
       "      <td>jsh</td>\n",
       "      <td>arab shipbuild repair yard</td>\n",
       "      <td>24.0</td>\n",
       "      <td>0.923077</td>\n",
       "      <td>0.000</td>\n",
       "    </tr>\n",
       "    <tr>\n",
       "      <th>4</th>\n",
       "      <td>better industri ltd</td>\n",
       "      <td>farmacap industria E comercio ltda</td>\n",
       "      <td>better</td>\n",
       "      <td>farmacap</td>\n",
       "      <td>8.0</td>\n",
       "      <td>1.000000</td>\n",
       "      <td>0.000</td>\n",
       "    </tr>\n",
       "    <tr>\n",
       "      <th>5</th>\n",
       "      <td>equipo inoxid del nort Sa De Cv</td>\n",
       "      <td>bel inc</td>\n",
       "      <td>equipo inoxid del nort</td>\n",
       "      <td>bel</td>\n",
       "      <td>20.0</td>\n",
       "      <td>0.909091</td>\n",
       "      <td>0.000</td>\n",
       "    </tr>\n",
       "  </tbody>\n",
       "</table>\n",
       "</div>"
      ],
      "text/plain": [
       "                                  name_1  \\\n",
       "pair_id                                    \n",
       "1                    sun blind decor inc   \n",
       "2                                eih ltd   \n",
       "3                             jsh ltd hk   \n",
       "4                    better industri ltd   \n",
       "5        equipo inoxid del nort Sa De Cv   \n",
       "\n",
       "                                          name_2                 tokens1  \\\n",
       "pair_id                                                                    \n",
       "1                       indl De cuautitlan Sa Cv         sun blind decor   \n",
       "2        dongguan wei shi plastic product co ltd                     eih   \n",
       "3               arab shipbuild and repair yard C                     jsh   \n",
       "4             farmacap industria E comercio ltda                  better   \n",
       "5                                        bel inc  equipo inoxid del nort   \n",
       "\n",
       "                            tokens2  levenstein  norm_levenstein  jacaard_sim  \n",
       "pair_id                                                                        \n",
       "1                   indl cuautitlan        15.0         1.000000        0.000  \n",
       "2                           wei shi         4.0         0.571429        0.125  \n",
       "3        arab shipbuild repair yard        24.0         0.923077        0.000  \n",
       "4                          farmacap         8.0         1.000000        0.000  \n",
       "5                               bel        20.0         0.909091        0.000  "
      ]
     },
     "execution_count": 190,
     "metadata": {},
     "output_type": "execute_result"
    }
   ],
   "source": [
    "test.head()"
   ]
  },
  {
   "cell_type": "markdown",
   "metadata": {},
   "source": [
    "## Cosine similarity"
   ]
  },
  {
   "cell_type": "code",
   "execution_count": 191,
   "metadata": {},
   "outputs": [],
   "source": [
    "from scipy import spatial"
   ]
  },
  {
   "cell_type": "markdown",
   "metadata": {},
   "source": [
    "Обучим tfidf на большом корпусе слов, для этого заканкатим tokens1 и tokens2 у train выборки"
   ]
  },
  {
   "cell_type": "code",
   "execution_count": 192,
   "metadata": {},
   "outputs": [],
   "source": [
    "tfidf = TfidfVectorizer()"
   ]
  },
  {
   "cell_type": "code",
   "execution_count": 193,
   "metadata": {},
   "outputs": [
    {
     "data": {
      "text/plain": [
       "995638"
      ]
     },
     "execution_count": 193,
     "metadata": {},
     "output_type": "execute_result"
    }
   ],
   "source": [
    "corpus = pd.concat([train['tokens1'], train['tokens2']]).values.astype('U')\n",
    "len(corpus)"
   ]
  },
  {
   "cell_type": "code",
   "execution_count": 194,
   "metadata": {},
   "outputs": [
    {
     "data": {
      "text/plain": [
       "TfidfVectorizer()"
      ]
     },
     "execution_count": 194,
     "metadata": {},
     "output_type": "execute_result"
    }
   ],
   "source": [
    "tfidf.fit(corpus)"
   ]
  },
  {
   "cell_type": "code",
   "execution_count": 195,
   "metadata": {},
   "outputs": [
    {
     "data": {
      "text/plain": [
       "(497819, 14422)"
      ]
     },
     "execution_count": 195,
     "metadata": {},
     "output_type": "execute_result"
    }
   ],
   "source": [
    "tf_tokens_1 = tfidf.transform(train['tokens1'])\n",
    "tf_tokens_1.shape"
   ]
  },
  {
   "cell_type": "code",
   "execution_count": 196,
   "metadata": {},
   "outputs": [
    {
     "data": {
      "text/plain": [
       "array([0., 0., 0., ..., 0., 0., 0.])"
      ]
     },
     "execution_count": 196,
     "metadata": {},
     "output_type": "execute_result"
    }
   ],
   "source": [
    "tf_tokens_1.getrow(0).A[0]"
   ]
  },
  {
   "cell_type": "code",
   "execution_count": 197,
   "metadata": {},
   "outputs": [
    {
     "data": {
      "text/plain": [
       "(497819, 14422)"
      ]
     },
     "execution_count": 197,
     "metadata": {},
     "output_type": "execute_result"
    }
   ],
   "source": [
    "tf_tokens_2 = tfidf.transform(train['tokens2'])\n",
    "tf_tokens_2.shape"
   ]
  },
  {
   "cell_type": "code",
   "execution_count": 198,
   "metadata": {},
   "outputs": [
    {
     "name": "stderr",
     "output_type": "stream",
     "text": [
      "/Users/yakovlev/opt/anaconda3/lib/python3.7/site-packages/scipy/spatial/distance.py:714: RuntimeWarning: invalid value encountered in double_scalars\n",
      "  dist = 1.0 - uv / np.sqrt(uu * vv)\n"
     ]
    }
   ],
   "source": [
    "li = []\n",
    "for i in range(tf_tokens_1.shape[0]):\n",
    "    li.append(1 - spatial.distance.cosine(tf_tokens_1.getrow(i).A[0], tf_tokens_2.getrow(i).A[0]))"
   ]
  },
  {
   "cell_type": "code",
   "execution_count": 199,
   "metadata": {},
   "outputs": [
    {
     "data": {
      "text/plain": [
       "497819"
      ]
     },
     "execution_count": 199,
     "metadata": {},
     "output_type": "execute_result"
    }
   ],
   "source": [
    "len(li)"
   ]
  },
  {
   "cell_type": "code",
   "execution_count": 200,
   "metadata": {},
   "outputs": [
    {
     "data": {
      "text/html": [
       "<div>\n",
       "<style scoped>\n",
       "    .dataframe tbody tr th:only-of-type {\n",
       "        vertical-align: middle;\n",
       "    }\n",
       "\n",
       "    .dataframe tbody tr th {\n",
       "        vertical-align: top;\n",
       "    }\n",
       "\n",
       "    .dataframe thead th {\n",
       "        text-align: right;\n",
       "    }\n",
       "</style>\n",
       "<table border=\"1\" class=\"dataframe\">\n",
       "  <thead>\n",
       "    <tr style=\"text-align: right;\">\n",
       "      <th></th>\n",
       "      <th>name_1</th>\n",
       "      <th>name_2</th>\n",
       "      <th>is_duplicate</th>\n",
       "      <th>tokens1</th>\n",
       "      <th>tokens2</th>\n",
       "      <th>levenstein</th>\n",
       "      <th>norm_levenstein</th>\n",
       "      <th>jacaard_sim</th>\n",
       "      <th>cos_sim</th>\n",
       "    </tr>\n",
       "    <tr>\n",
       "      <th>pair_id</th>\n",
       "      <th></th>\n",
       "      <th></th>\n",
       "      <th></th>\n",
       "      <th></th>\n",
       "      <th></th>\n",
       "      <th></th>\n",
       "      <th></th>\n",
       "      <th></th>\n",
       "      <th></th>\n",
       "    </tr>\n",
       "  </thead>\n",
       "  <tbody>\n",
       "    <tr>\n",
       "      <th>1</th>\n",
       "      <td>iko industri ltd</td>\n",
       "      <td>enorm industri trade pvt ltd</td>\n",
       "      <td>0</td>\n",
       "      <td>iko</td>\n",
       "      <td>enorm</td>\n",
       "      <td>4.0</td>\n",
       "      <td>0.800000</td>\n",
       "      <td>0.333333</td>\n",
       "      <td>0.0</td>\n",
       "    </tr>\n",
       "    <tr>\n",
       "      <th>2</th>\n",
       "      <td>apcotex industri ltd</td>\n",
       "      <td>technocraft industri india ltd</td>\n",
       "      <td>0</td>\n",
       "      <td>apcotex</td>\n",
       "      <td>technocraft</td>\n",
       "      <td>9.0</td>\n",
       "      <td>0.818182</td>\n",
       "      <td>0.400000</td>\n",
       "      <td>0.0</td>\n",
       "    </tr>\n",
       "    <tr>\n",
       "      <th>3</th>\n",
       "      <td>rishichem distributor pvt ltd</td>\n",
       "      <td>dsa</td>\n",
       "      <td>0</td>\n",
       "      <td>rishichem distributor</td>\n",
       "      <td>dsa</td>\n",
       "      <td>19.0</td>\n",
       "      <td>0.904762</td>\n",
       "      <td>0.000000</td>\n",
       "      <td>0.0</td>\n",
       "    </tr>\n",
       "    <tr>\n",
       "      <th>4</th>\n",
       "      <td>powermax rubber factori</td>\n",
       "      <td>co one</td>\n",
       "      <td>0</td>\n",
       "      <td>powermax factori</td>\n",
       "      <td>one</td>\n",
       "      <td>14.0</td>\n",
       "      <td>0.875000</td>\n",
       "      <td>0.000000</td>\n",
       "      <td>0.0</td>\n",
       "    </tr>\n",
       "    <tr>\n",
       "      <th>5</th>\n",
       "      <td>tress a</td>\n",
       "      <td>longyou industri park zhejiang</td>\n",
       "      <td>0</td>\n",
       "      <td>tress</td>\n",
       "      <td>longyou park zhejiang</td>\n",
       "      <td>19.0</td>\n",
       "      <td>0.904762</td>\n",
       "      <td>0.000000</td>\n",
       "      <td>0.0</td>\n",
       "    </tr>\n",
       "  </tbody>\n",
       "</table>\n",
       "</div>"
      ],
      "text/plain": [
       "                                name_1                          name_2  \\\n",
       "pair_id                                                                  \n",
       "1                     iko industri ltd    enorm industri trade pvt ltd   \n",
       "2                 apcotex industri ltd  technocraft industri india ltd   \n",
       "3        rishichem distributor pvt ltd                             dsa   \n",
       "4              powermax rubber factori                          co one   \n",
       "5                              tress a  longyou industri park zhejiang   \n",
       "\n",
       "         is_duplicate                tokens1                tokens2  \\\n",
       "pair_id                                                               \n",
       "1                   0                    iko                  enorm   \n",
       "2                   0                apcotex            technocraft   \n",
       "3                   0  rishichem distributor                    dsa   \n",
       "4                   0       powermax factori                    one   \n",
       "5                   0                  tress  longyou park zhejiang   \n",
       "\n",
       "         levenstein  norm_levenstein  jacaard_sim  cos_sim  \n",
       "pair_id                                                     \n",
       "1               4.0         0.800000     0.333333      0.0  \n",
       "2               9.0         0.818182     0.400000      0.0  \n",
       "3              19.0         0.904762     0.000000      0.0  \n",
       "4              14.0         0.875000     0.000000      0.0  \n",
       "5              19.0         0.904762     0.000000      0.0  "
      ]
     },
     "execution_count": 200,
     "metadata": {},
     "output_type": "execute_result"
    }
   ],
   "source": [
    "train['cos_sim'] = li\n",
    "train.head()"
   ]
  },
  {
   "cell_type": "code",
   "execution_count": 201,
   "metadata": {},
   "outputs": [
    {
     "data": {
      "text/plain": [
       "(213249, 14422)"
      ]
     },
     "execution_count": 201,
     "metadata": {},
     "output_type": "execute_result"
    }
   ],
   "source": [
    "tf_tokens_1 = tfidf.transform(test['tokens1'])\n",
    "tf_tokens_1.shape"
   ]
  },
  {
   "cell_type": "code",
   "execution_count": 202,
   "metadata": {},
   "outputs": [
    {
     "data": {
      "text/plain": [
       "(213249, 14422)"
      ]
     },
     "execution_count": 202,
     "metadata": {},
     "output_type": "execute_result"
    }
   ],
   "source": [
    "tf_tokens_2 = tfidf.transform(test['tokens2'])\n",
    "tf_tokens_2.shape"
   ]
  },
  {
   "cell_type": "code",
   "execution_count": 203,
   "metadata": {},
   "outputs": [
    {
     "name": "stderr",
     "output_type": "stream",
     "text": [
      "/Users/yakovlev/opt/anaconda3/lib/python3.7/site-packages/scipy/spatial/distance.py:714: RuntimeWarning: invalid value encountered in double_scalars\n",
      "  dist = 1.0 - uv / np.sqrt(uu * vv)\n"
     ]
    }
   ],
   "source": [
    "li_test = []\n",
    "for i in range(tf_tokens_1.shape[0]):\n",
    "    li_test.append(1 - spatial.distance.cosine(tf_tokens_1.getrow(i).A[0], tf_tokens_2.getrow(i).A[0]))"
   ]
  },
  {
   "cell_type": "code",
   "execution_count": 204,
   "metadata": {},
   "outputs": [
    {
     "data": {
      "text/plain": [
       "213249"
      ]
     },
     "execution_count": 204,
     "metadata": {},
     "output_type": "execute_result"
    }
   ],
   "source": [
    "len(li_test)"
   ]
  },
  {
   "cell_type": "code",
   "execution_count": 205,
   "metadata": {},
   "outputs": [],
   "source": [
    "test['cos_sim'] = li_test"
   ]
  },
  {
   "cell_type": "code",
   "execution_count": 206,
   "metadata": {},
   "outputs": [
    {
     "data": {
      "text/html": [
       "<div>\n",
       "<style scoped>\n",
       "    .dataframe tbody tr th:only-of-type {\n",
       "        vertical-align: middle;\n",
       "    }\n",
       "\n",
       "    .dataframe tbody tr th {\n",
       "        vertical-align: top;\n",
       "    }\n",
       "\n",
       "    .dataframe thead th {\n",
       "        text-align: right;\n",
       "    }\n",
       "</style>\n",
       "<table border=\"1\" class=\"dataframe\">\n",
       "  <thead>\n",
       "    <tr style=\"text-align: right;\">\n",
       "      <th></th>\n",
       "      <th>name_1</th>\n",
       "      <th>name_2</th>\n",
       "      <th>is_duplicate</th>\n",
       "      <th>tokens1</th>\n",
       "      <th>tokens2</th>\n",
       "      <th>levenstein</th>\n",
       "      <th>norm_levenstein</th>\n",
       "      <th>jacaard_sim</th>\n",
       "      <th>cos_sim</th>\n",
       "    </tr>\n",
       "    <tr>\n",
       "      <th>pair_id</th>\n",
       "      <th></th>\n",
       "      <th></th>\n",
       "      <th></th>\n",
       "      <th></th>\n",
       "      <th></th>\n",
       "      <th></th>\n",
       "      <th></th>\n",
       "      <th></th>\n",
       "      <th></th>\n",
       "    </tr>\n",
       "  </thead>\n",
       "  <tbody>\n",
       "    <tr>\n",
       "      <th>1787</th>\n",
       "      <td>Pt bridgeston tire indonesia</td>\n",
       "      <td>bridgeston Do brasil industria E comenrcio ltda</td>\n",
       "      <td>1</td>\n",
       "      <td></td>\n",
       "      <td>comenrcio</td>\n",
       "      <td>9.0</td>\n",
       "      <td>1.0</td>\n",
       "      <td>0.100000</td>\n",
       "      <td>NaN</td>\n",
       "    </tr>\n",
       "    <tr>\n",
       "      <th>2055</th>\n",
       "      <td>Pt bridgeston tire indonesia</td>\n",
       "      <td>thai bridgeston co ltd</td>\n",
       "      <td>1</td>\n",
       "      <td></td>\n",
       "      <td>thai</td>\n",
       "      <td>4.0</td>\n",
       "      <td>1.0</td>\n",
       "      <td>0.142857</td>\n",
       "      <td>NaN</td>\n",
       "    </tr>\n",
       "    <tr>\n",
       "      <th>2799</th>\n",
       "      <td>bridgeston america tire</td>\n",
       "      <td>bridgeston intern group</td>\n",
       "      <td>1</td>\n",
       "      <td></td>\n",
       "      <td></td>\n",
       "      <td>0.0</td>\n",
       "      <td>0.0</td>\n",
       "      <td>0.200000</td>\n",
       "      <td>NaN</td>\n",
       "    </tr>\n",
       "    <tr>\n",
       "      <th>3372</th>\n",
       "      <td></td>\n",
       "      <td></td>\n",
       "      <td>1</td>\n",
       "      <td></td>\n",
       "      <td></td>\n",
       "      <td>0.0</td>\n",
       "      <td>0.0</td>\n",
       "      <td>0.000000</td>\n",
       "      <td>NaN</td>\n",
       "    </tr>\n",
       "    <tr>\n",
       "      <th>4286</th>\n",
       "      <td>bridgeston De mexico s a De c v</td>\n",
       "      <td>bridgeston ncr</td>\n",
       "      <td>1</td>\n",
       "      <td></td>\n",
       "      <td>ncr</td>\n",
       "      <td>3.0</td>\n",
       "      <td>1.0</td>\n",
       "      <td>0.125000</td>\n",
       "      <td>NaN</td>\n",
       "    </tr>\n",
       "    <tr>\n",
       "      <th>...</th>\n",
       "      <td>...</td>\n",
       "      <td>...</td>\n",
       "      <td>...</td>\n",
       "      <td>...</td>\n",
       "      <td>...</td>\n",
       "      <td>...</td>\n",
       "      <td>...</td>\n",
       "      <td>...</td>\n",
       "      <td>...</td>\n",
       "    </tr>\n",
       "    <tr>\n",
       "      <th>495751</th>\n",
       "      <td>bridgeston india</td>\n",
       "      <td>bridgeston fireston venezolana</td>\n",
       "      <td>1</td>\n",
       "      <td></td>\n",
       "      <td>fireston venezolana</td>\n",
       "      <td>19.0</td>\n",
       "      <td>1.0</td>\n",
       "      <td>0.250000</td>\n",
       "      <td>NaN</td>\n",
       "    </tr>\n",
       "    <tr>\n",
       "      <th>496076</th>\n",
       "      <td>bridgeston De mexico s a De c v</td>\n",
       "      <td>bridgeston De costa rica s a</td>\n",
       "      <td>1</td>\n",
       "      <td></td>\n",
       "      <td></td>\n",
       "      <td>0.0</td>\n",
       "      <td>0.0</td>\n",
       "      <td>0.444444</td>\n",
       "      <td>NaN</td>\n",
       "    </tr>\n",
       "    <tr>\n",
       "      <th>496238</th>\n",
       "      <td>bridgeston stargard Sp zoo</td>\n",
       "      <td>bridgeston intern group</td>\n",
       "      <td>1</td>\n",
       "      <td>stargard zoo</td>\n",
       "      <td></td>\n",
       "      <td>12.0</td>\n",
       "      <td>1.0</td>\n",
       "      <td>0.166667</td>\n",
       "      <td>NaN</td>\n",
       "    </tr>\n",
       "    <tr>\n",
       "      <th>496575</th>\n",
       "      <td>bridgeston huizhou synthet rubber co ltd</td>\n",
       "      <td>bridgeston india pvt ltd</td>\n",
       "      <td>1</td>\n",
       "      <td>huizhou</td>\n",
       "      <td></td>\n",
       "      <td>7.0</td>\n",
       "      <td>1.0</td>\n",
       "      <td>0.250000</td>\n",
       "      <td>NaN</td>\n",
       "    </tr>\n",
       "    <tr>\n",
       "      <th>497606</th>\n",
       "      <td>bridgeston huizhou synthet rubber co ltd</td>\n",
       "      <td>bridgeston intern group</td>\n",
       "      <td>1</td>\n",
       "      <td>huizhou</td>\n",
       "      <td></td>\n",
       "      <td>7.0</td>\n",
       "      <td>1.0</td>\n",
       "      <td>0.125000</td>\n",
       "      <td>NaN</td>\n",
       "    </tr>\n",
       "  </tbody>\n",
       "</table>\n",
       "<p>875 rows × 9 columns</p>\n",
       "</div>"
      ],
      "text/plain": [
       "                                           name_1  \\\n",
       "pair_id                                             \n",
       "1787                 Pt bridgeston tire indonesia   \n",
       "2055                 Pt bridgeston tire indonesia   \n",
       "2799                      bridgeston america tire   \n",
       "3372                                                \n",
       "4286              bridgeston De mexico s a De c v   \n",
       "...                                           ...   \n",
       "495751                           bridgeston india   \n",
       "496076            bridgeston De mexico s a De c v   \n",
       "496238                 bridgeston stargard Sp zoo   \n",
       "496575   bridgeston huizhou synthet rubber co ltd   \n",
       "497606   bridgeston huizhou synthet rubber co ltd   \n",
       "\n",
       "                                                  name_2  is_duplicate  \\\n",
       "pair_id                                                                  \n",
       "1787     bridgeston Do brasil industria E comenrcio ltda             1   \n",
       "2055                              thai bridgeston co ltd             1   \n",
       "2799                             bridgeston intern group             1   \n",
       "3372                                                                 1   \n",
       "4286                                      bridgeston ncr             1   \n",
       "...                                                  ...           ...   \n",
       "495751                    bridgeston fireston venezolana             1   \n",
       "496076                      bridgeston De costa rica s a             1   \n",
       "496238                           bridgeston intern group             1   \n",
       "496575                          bridgeston india pvt ltd             1   \n",
       "497606                           bridgeston intern group             1   \n",
       "\n",
       "              tokens1              tokens2  levenstein  norm_levenstein  \\\n",
       "pair_id                                                                   \n",
       "1787                             comenrcio         9.0              1.0   \n",
       "2055                                  thai         4.0              1.0   \n",
       "2799                                               0.0              0.0   \n",
       "3372                                               0.0              0.0   \n",
       "4286                                   ncr         3.0              1.0   \n",
       "...               ...                  ...         ...              ...   \n",
       "495751                 fireston venezolana        19.0              1.0   \n",
       "496076                                             0.0              0.0   \n",
       "496238   stargard zoo                             12.0              1.0   \n",
       "496575        huizhou                              7.0              1.0   \n",
       "497606        huizhou                              7.0              1.0   \n",
       "\n",
       "         jacaard_sim  cos_sim  \n",
       "pair_id                        \n",
       "1787        0.100000      NaN  \n",
       "2055        0.142857      NaN  \n",
       "2799        0.200000      NaN  \n",
       "3372        0.000000      NaN  \n",
       "4286        0.125000      NaN  \n",
       "...              ...      ...  \n",
       "495751      0.250000      NaN  \n",
       "496076      0.444444      NaN  \n",
       "496238      0.166667      NaN  \n",
       "496575      0.250000      NaN  \n",
       "497606      0.125000      NaN  \n",
       "\n",
       "[875 rows x 9 columns]"
      ]
     },
     "execution_count": 206,
     "metadata": {},
     "output_type": "execute_result"
    }
   ],
   "source": [
    "train[(train['cos_sim'].isna()) & (train['is_duplicate'] == 1)]"
   ]
  },
  {
   "cell_type": "code",
   "execution_count": 207,
   "metadata": {},
   "outputs": [],
   "source": [
    "train['cos_sim'].fillna(0, inplace=True)\n",
    "test['cos_sim'].fillna(0, inplace=True)"
   ]
  },
  {
   "cell_type": "markdown",
   "metadata": {},
   "source": [
    "## Jaro Winkler"
   ]
  },
  {
   "cell_type": "code",
   "execution_count": 208,
   "metadata": {},
   "outputs": [],
   "source": [
    "from strsimpy.jaro_winkler import JaroWinkler"
   ]
  },
  {
   "cell_type": "code",
   "execution_count": 209,
   "metadata": {},
   "outputs": [],
   "source": [
    "jarowinkler = JaroWinkler()"
   ]
  },
  {
   "cell_type": "code",
   "execution_count": 210,
   "metadata": {},
   "outputs": [],
   "source": [
    "train['jaro_winkler'] = train.apply(lambda x: jarowinkler.similarity(x['tokens1'], x['tokens2']), axis=1)"
   ]
  },
  {
   "cell_type": "code",
   "execution_count": 211,
   "metadata": {},
   "outputs": [
    {
     "data": {
      "text/html": [
       "<div>\n",
       "<style scoped>\n",
       "    .dataframe tbody tr th:only-of-type {\n",
       "        vertical-align: middle;\n",
       "    }\n",
       "\n",
       "    .dataframe tbody tr th {\n",
       "        vertical-align: top;\n",
       "    }\n",
       "\n",
       "    .dataframe thead th {\n",
       "        text-align: right;\n",
       "    }\n",
       "</style>\n",
       "<table border=\"1\" class=\"dataframe\">\n",
       "  <thead>\n",
       "    <tr style=\"text-align: right;\">\n",
       "      <th></th>\n",
       "      <th>name_1</th>\n",
       "      <th>name_2</th>\n",
       "      <th>is_duplicate</th>\n",
       "      <th>tokens1</th>\n",
       "      <th>tokens2</th>\n",
       "      <th>levenstein</th>\n",
       "      <th>norm_levenstein</th>\n",
       "      <th>jacaard_sim</th>\n",
       "      <th>cos_sim</th>\n",
       "      <th>jaro_winkler</th>\n",
       "    </tr>\n",
       "    <tr>\n",
       "      <th>pair_id</th>\n",
       "      <th></th>\n",
       "      <th></th>\n",
       "      <th></th>\n",
       "      <th></th>\n",
       "      <th></th>\n",
       "      <th></th>\n",
       "      <th></th>\n",
       "      <th></th>\n",
       "      <th></th>\n",
       "      <th></th>\n",
       "    </tr>\n",
       "  </thead>\n",
       "  <tbody>\n",
       "    <tr>\n",
       "      <th>1</th>\n",
       "      <td>iko industri ltd</td>\n",
       "      <td>enorm industri trade pvt ltd</td>\n",
       "      <td>0</td>\n",
       "      <td>iko</td>\n",
       "      <td>enorm</td>\n",
       "      <td>4.0</td>\n",
       "      <td>0.800000</td>\n",
       "      <td>0.333333</td>\n",
       "      <td>0.0</td>\n",
       "      <td>0.511111</td>\n",
       "    </tr>\n",
       "    <tr>\n",
       "      <th>2</th>\n",
       "      <td>apcotex industri ltd</td>\n",
       "      <td>technocraft industri india ltd</td>\n",
       "      <td>0</td>\n",
       "      <td>apcotex</td>\n",
       "      <td>technocraft</td>\n",
       "      <td>9.0</td>\n",
       "      <td>0.818182</td>\n",
       "      <td>0.400000</td>\n",
       "      <td>0.0</td>\n",
       "      <td>0.478355</td>\n",
       "    </tr>\n",
       "    <tr>\n",
       "      <th>3</th>\n",
       "      <td>rishichem distributor pvt ltd</td>\n",
       "      <td>dsa</td>\n",
       "      <td>0</td>\n",
       "      <td>rishichem distributor</td>\n",
       "      <td>dsa</td>\n",
       "      <td>19.0</td>\n",
       "      <td>0.904762</td>\n",
       "      <td>0.000000</td>\n",
       "      <td>0.0</td>\n",
       "      <td>0.460317</td>\n",
       "    </tr>\n",
       "    <tr>\n",
       "      <th>4</th>\n",
       "      <td>powermax rubber factori</td>\n",
       "      <td>co one</td>\n",
       "      <td>0</td>\n",
       "      <td>powermax factori</td>\n",
       "      <td>one</td>\n",
       "      <td>14.0</td>\n",
       "      <td>0.875000</td>\n",
       "      <td>0.000000</td>\n",
       "      <td>0.0</td>\n",
       "      <td>0.597222</td>\n",
       "    </tr>\n",
       "    <tr>\n",
       "      <th>5</th>\n",
       "      <td>tress a</td>\n",
       "      <td>longyou industri park zhejiang</td>\n",
       "      <td>0</td>\n",
       "      <td>tress</td>\n",
       "      <td>longyou park zhejiang</td>\n",
       "      <td>19.0</td>\n",
       "      <td>0.904762</td>\n",
       "      <td>0.000000</td>\n",
       "      <td>0.0</td>\n",
       "      <td>0.415873</td>\n",
       "    </tr>\n",
       "  </tbody>\n",
       "</table>\n",
       "</div>"
      ],
      "text/plain": [
       "                                name_1                          name_2  \\\n",
       "pair_id                                                                  \n",
       "1                     iko industri ltd    enorm industri trade pvt ltd   \n",
       "2                 apcotex industri ltd  technocraft industri india ltd   \n",
       "3        rishichem distributor pvt ltd                             dsa   \n",
       "4              powermax rubber factori                          co one   \n",
       "5                              tress a  longyou industri park zhejiang   \n",
       "\n",
       "         is_duplicate                tokens1                tokens2  \\\n",
       "pair_id                                                               \n",
       "1                   0                    iko                  enorm   \n",
       "2                   0                apcotex            technocraft   \n",
       "3                   0  rishichem distributor                    dsa   \n",
       "4                   0       powermax factori                    one   \n",
       "5                   0                  tress  longyou park zhejiang   \n",
       "\n",
       "         levenstein  norm_levenstein  jacaard_sim  cos_sim  jaro_winkler  \n",
       "pair_id                                                                   \n",
       "1               4.0         0.800000     0.333333      0.0      0.511111  \n",
       "2               9.0         0.818182     0.400000      0.0      0.478355  \n",
       "3              19.0         0.904762     0.000000      0.0      0.460317  \n",
       "4              14.0         0.875000     0.000000      0.0      0.597222  \n",
       "5              19.0         0.904762     0.000000      0.0      0.415873  "
      ]
     },
     "execution_count": 211,
     "metadata": {},
     "output_type": "execute_result"
    }
   ],
   "source": [
    "train.head()"
   ]
  },
  {
   "cell_type": "code",
   "execution_count": 212,
   "metadata": {},
   "outputs": [],
   "source": [
    "test['jaro_winkler'] = test.apply(lambda x: jarowinkler.similarity(x['tokens1'], x['tokens2']), axis=1)"
   ]
  },
  {
   "cell_type": "code",
   "execution_count": 213,
   "metadata": {},
   "outputs": [
    {
     "data": {
      "text/html": [
       "<div>\n",
       "<style scoped>\n",
       "    .dataframe tbody tr th:only-of-type {\n",
       "        vertical-align: middle;\n",
       "    }\n",
       "\n",
       "    .dataframe tbody tr th {\n",
       "        vertical-align: top;\n",
       "    }\n",
       "\n",
       "    .dataframe thead th {\n",
       "        text-align: right;\n",
       "    }\n",
       "</style>\n",
       "<table border=\"1\" class=\"dataframe\">\n",
       "  <thead>\n",
       "    <tr style=\"text-align: right;\">\n",
       "      <th></th>\n",
       "      <th>name_1</th>\n",
       "      <th>name_2</th>\n",
       "      <th>tokens1</th>\n",
       "      <th>tokens2</th>\n",
       "      <th>levenstein</th>\n",
       "      <th>norm_levenstein</th>\n",
       "      <th>jacaard_sim</th>\n",
       "      <th>cos_sim</th>\n",
       "      <th>jaro_winkler</th>\n",
       "    </tr>\n",
       "    <tr>\n",
       "      <th>pair_id</th>\n",
       "      <th></th>\n",
       "      <th></th>\n",
       "      <th></th>\n",
       "      <th></th>\n",
       "      <th></th>\n",
       "      <th></th>\n",
       "      <th></th>\n",
       "      <th></th>\n",
       "      <th></th>\n",
       "    </tr>\n",
       "  </thead>\n",
       "  <tbody>\n",
       "    <tr>\n",
       "      <th>1</th>\n",
       "      <td>sun blind decor inc</td>\n",
       "      <td>indl De cuautitlan Sa Cv</td>\n",
       "      <td>sun blind decor</td>\n",
       "      <td>indl cuautitlan</td>\n",
       "      <td>15.0</td>\n",
       "      <td>1.000000</td>\n",
       "      <td>0.000</td>\n",
       "      <td>0.0</td>\n",
       "      <td>0.488889</td>\n",
       "    </tr>\n",
       "    <tr>\n",
       "      <th>2</th>\n",
       "      <td>eih ltd</td>\n",
       "      <td>dongguan wei shi plastic product co ltd</td>\n",
       "      <td>eih</td>\n",
       "      <td>wei shi</td>\n",
       "      <td>4.0</td>\n",
       "      <td>0.571429</td>\n",
       "      <td>0.125</td>\n",
       "      <td>0.0</td>\n",
       "      <td>0.650794</td>\n",
       "    </tr>\n",
       "    <tr>\n",
       "      <th>3</th>\n",
       "      <td>jsh ltd hk</td>\n",
       "      <td>arab shipbuild and repair yard C</td>\n",
       "      <td>jsh</td>\n",
       "      <td>arab shipbuild repair yard</td>\n",
       "      <td>24.0</td>\n",
       "      <td>0.923077</td>\n",
       "      <td>0.000</td>\n",
       "      <td>0.0</td>\n",
       "      <td>0.581197</td>\n",
       "    </tr>\n",
       "    <tr>\n",
       "      <th>4</th>\n",
       "      <td>better industri ltd</td>\n",
       "      <td>farmacap industria E comercio ltda</td>\n",
       "      <td>better</td>\n",
       "      <td>farmacap</td>\n",
       "      <td>8.0</td>\n",
       "      <td>1.000000</td>\n",
       "      <td>0.000</td>\n",
       "      <td>0.0</td>\n",
       "      <td>0.430556</td>\n",
       "    </tr>\n",
       "    <tr>\n",
       "      <th>5</th>\n",
       "      <td>equipo inoxid del nort Sa De Cv</td>\n",
       "      <td>bel inc</td>\n",
       "      <td>equipo inoxid del nort</td>\n",
       "      <td>bel</td>\n",
       "      <td>20.0</td>\n",
       "      <td>0.909091</td>\n",
       "      <td>0.000</td>\n",
       "      <td>0.0</td>\n",
       "      <td>0.459596</td>\n",
       "    </tr>\n",
       "  </tbody>\n",
       "</table>\n",
       "</div>"
      ],
      "text/plain": [
       "                                  name_1  \\\n",
       "pair_id                                    \n",
       "1                    sun blind decor inc   \n",
       "2                                eih ltd   \n",
       "3                             jsh ltd hk   \n",
       "4                    better industri ltd   \n",
       "5        equipo inoxid del nort Sa De Cv   \n",
       "\n",
       "                                          name_2                 tokens1  \\\n",
       "pair_id                                                                    \n",
       "1                       indl De cuautitlan Sa Cv         sun blind decor   \n",
       "2        dongguan wei shi plastic product co ltd                     eih   \n",
       "3               arab shipbuild and repair yard C                     jsh   \n",
       "4             farmacap industria E comercio ltda                  better   \n",
       "5                                        bel inc  equipo inoxid del nort   \n",
       "\n",
       "                            tokens2  levenstein  norm_levenstein  jacaard_sim  \\\n",
       "pair_id                                                                         \n",
       "1                   indl cuautitlan        15.0         1.000000        0.000   \n",
       "2                           wei shi         4.0         0.571429        0.125   \n",
       "3        arab shipbuild repair yard        24.0         0.923077        0.000   \n",
       "4                          farmacap         8.0         1.000000        0.000   \n",
       "5                               bel        20.0         0.909091        0.000   \n",
       "\n",
       "         cos_sim  jaro_winkler  \n",
       "pair_id                         \n",
       "1            0.0      0.488889  \n",
       "2            0.0      0.650794  \n",
       "3            0.0      0.581197  \n",
       "4            0.0      0.430556  \n",
       "5            0.0      0.459596  "
      ]
     },
     "execution_count": 213,
     "metadata": {},
     "output_type": "execute_result"
    }
   ],
   "source": [
    "test.head()"
   ]
  },
  {
   "cell_type": "markdown",
   "metadata": {},
   "source": [
    "## Damerau-Levenshtein distance"
   ]
  },
  {
   "cell_type": "code",
   "execution_count": 214,
   "metadata": {},
   "outputs": [],
   "source": [
    "from strsimpy.damerau import Damerau"
   ]
  },
  {
   "cell_type": "code",
   "execution_count": 215,
   "metadata": {},
   "outputs": [],
   "source": [
    "damerau = Damerau()"
   ]
  },
  {
   "cell_type": "code",
   "execution_count": 216,
   "metadata": {},
   "outputs": [],
   "source": [
    "train['damerau'] = train.apply(lambda x: damerau.distance(x['tokens1'], x['tokens2']), axis=1)"
   ]
  },
  {
   "cell_type": "code",
   "execution_count": 217,
   "metadata": {},
   "outputs": [],
   "source": [
    "test['damerau'] = test.apply(lambda x: damerau.distance(x['tokens1'], x['tokens2']), axis=1)"
   ]
  },
  {
   "cell_type": "markdown",
   "metadata": {},
   "source": [
    "## QGram"
   ]
  },
  {
   "cell_type": "code",
   "execution_count": 218,
   "metadata": {},
   "outputs": [],
   "source": [
    "from strsimpy.qgram import QGram"
   ]
  },
  {
   "cell_type": "code",
   "execution_count": 219,
   "metadata": {},
   "outputs": [
    {
     "data": {
      "text/html": [
       "<div>\n",
       "<style scoped>\n",
       "    .dataframe tbody tr th:only-of-type {\n",
       "        vertical-align: middle;\n",
       "    }\n",
       "\n",
       "    .dataframe tbody tr th {\n",
       "        vertical-align: top;\n",
       "    }\n",
       "\n",
       "    .dataframe thead th {\n",
       "        text-align: right;\n",
       "    }\n",
       "</style>\n",
       "<table border=\"1\" class=\"dataframe\">\n",
       "  <thead>\n",
       "    <tr style=\"text-align: right;\">\n",
       "      <th></th>\n",
       "      <th>name_1</th>\n",
       "      <th>name_2</th>\n",
       "      <th>is_duplicate</th>\n",
       "      <th>tokens1</th>\n",
       "      <th>tokens2</th>\n",
       "      <th>levenstein</th>\n",
       "      <th>norm_levenstein</th>\n",
       "      <th>jacaard_sim</th>\n",
       "      <th>cos_sim</th>\n",
       "      <th>jaro_winkler</th>\n",
       "      <th>damerau</th>\n",
       "    </tr>\n",
       "    <tr>\n",
       "      <th>pair_id</th>\n",
       "      <th></th>\n",
       "      <th></th>\n",
       "      <th></th>\n",
       "      <th></th>\n",
       "      <th></th>\n",
       "      <th></th>\n",
       "      <th></th>\n",
       "      <th></th>\n",
       "      <th></th>\n",
       "      <th></th>\n",
       "      <th></th>\n",
       "    </tr>\n",
       "  </thead>\n",
       "  <tbody>\n",
       "    <tr>\n",
       "      <th>1</th>\n",
       "      <td>iko industri ltd</td>\n",
       "      <td>enorm industri trade pvt ltd</td>\n",
       "      <td>0</td>\n",
       "      <td>iko</td>\n",
       "      <td>enorm</td>\n",
       "      <td>4.0</td>\n",
       "      <td>0.8</td>\n",
       "      <td>0.333333</td>\n",
       "      <td>0.0</td>\n",
       "      <td>0.511111</td>\n",
       "      <td>4.0</td>\n",
       "    </tr>\n",
       "  </tbody>\n",
       "</table>\n",
       "</div>"
      ],
      "text/plain": [
       "                   name_1                        name_2  is_duplicate tokens1  \\\n",
       "pair_id                                                                         \n",
       "1        iko industri ltd  enorm industri trade pvt ltd             0     iko   \n",
       "\n",
       "        tokens2  levenstein  norm_levenstein  jacaard_sim  cos_sim  \\\n",
       "pair_id                                                              \n",
       "1         enorm         4.0              0.8     0.333333      0.0   \n",
       "\n",
       "         jaro_winkler  damerau  \n",
       "pair_id                         \n",
       "1            0.511111      4.0  "
      ]
     },
     "execution_count": 219,
     "metadata": {},
     "output_type": "execute_result"
    }
   ],
   "source": [
    "train.head(1)"
   ]
  },
  {
   "cell_type": "code",
   "execution_count": 220,
   "metadata": {},
   "outputs": [],
   "source": [
    "qgram = QGram()"
   ]
  },
  {
   "cell_type": "code",
   "execution_count": 221,
   "metadata": {},
   "outputs": [
    {
     "data": {
      "text/plain": [
       "14"
      ]
     },
     "execution_count": 221,
     "metadata": {},
     "output_type": "execute_result"
    }
   ],
   "source": [
    "qgram.distance(train.iloc[1]['tokens1'], train.iloc[1]['tokens2'])"
   ]
  },
  {
   "cell_type": "code",
   "execution_count": 222,
   "metadata": {},
   "outputs": [],
   "source": [
    "qgram = QGram(2)\n",
    "train['qram'] = train.apply(lambda x: qgram.distance(x.tokens1, x.tokens2), axis=1)"
   ]
  },
  {
   "cell_type": "code",
   "execution_count": 223,
   "metadata": {},
   "outputs": [],
   "source": [
    "test['qram'] = test.apply(lambda x: qgram.distance(x.tokens1, x.tokens2), axis=1)"
   ]
  },
  {
   "cell_type": "markdown",
   "metadata": {},
   "source": [
    "# Базовая модель"
   ]
  },
  {
   "cell_type": "code",
   "execution_count": 224,
   "metadata": {},
   "outputs": [
    {
     "data": {
      "text/html": [
       "<div>\n",
       "<style scoped>\n",
       "    .dataframe tbody tr th:only-of-type {\n",
       "        vertical-align: middle;\n",
       "    }\n",
       "\n",
       "    .dataframe tbody tr th {\n",
       "        vertical-align: top;\n",
       "    }\n",
       "\n",
       "    .dataframe thead th {\n",
       "        text-align: right;\n",
       "    }\n",
       "</style>\n",
       "<table border=\"1\" class=\"dataframe\">\n",
       "  <thead>\n",
       "    <tr style=\"text-align: right;\">\n",
       "      <th></th>\n",
       "      <th>name_1</th>\n",
       "      <th>name_2</th>\n",
       "      <th>is_duplicate</th>\n",
       "      <th>tokens1</th>\n",
       "      <th>tokens2</th>\n",
       "      <th>levenstein</th>\n",
       "      <th>norm_levenstein</th>\n",
       "      <th>jacaard_sim</th>\n",
       "      <th>cos_sim</th>\n",
       "      <th>jaro_winkler</th>\n",
       "      <th>damerau</th>\n",
       "      <th>qram</th>\n",
       "    </tr>\n",
       "    <tr>\n",
       "      <th>pair_id</th>\n",
       "      <th></th>\n",
       "      <th></th>\n",
       "      <th></th>\n",
       "      <th></th>\n",
       "      <th></th>\n",
       "      <th></th>\n",
       "      <th></th>\n",
       "      <th></th>\n",
       "      <th></th>\n",
       "      <th></th>\n",
       "      <th></th>\n",
       "      <th></th>\n",
       "    </tr>\n",
       "  </thead>\n",
       "  <tbody>\n",
       "    <tr>\n",
       "      <th>1</th>\n",
       "      <td>iko industri ltd</td>\n",
       "      <td>enorm industri trade pvt ltd</td>\n",
       "      <td>0</td>\n",
       "      <td>iko</td>\n",
       "      <td>enorm</td>\n",
       "      <td>4.0</td>\n",
       "      <td>0.800000</td>\n",
       "      <td>0.333333</td>\n",
       "      <td>0.0</td>\n",
       "      <td>0.511111</td>\n",
       "      <td>4.0</td>\n",
       "      <td>6.0</td>\n",
       "    </tr>\n",
       "    <tr>\n",
       "      <th>2</th>\n",
       "      <td>apcotex industri ltd</td>\n",
       "      <td>technocraft industri india ltd</td>\n",
       "      <td>0</td>\n",
       "      <td>apcotex</td>\n",
       "      <td>technocraft</td>\n",
       "      <td>9.0</td>\n",
       "      <td>0.818182</td>\n",
       "      <td>0.400000</td>\n",
       "      <td>0.0</td>\n",
       "      <td>0.478355</td>\n",
       "      <td>9.0</td>\n",
       "      <td>14.0</td>\n",
       "    </tr>\n",
       "    <tr>\n",
       "      <th>3</th>\n",
       "      <td>rishichem distributor pvt ltd</td>\n",
       "      <td>dsa</td>\n",
       "      <td>0</td>\n",
       "      <td>rishichem distributor</td>\n",
       "      <td>dsa</td>\n",
       "      <td>19.0</td>\n",
       "      <td>0.904762</td>\n",
       "      <td>0.000000</td>\n",
       "      <td>0.0</td>\n",
       "      <td>0.460317</td>\n",
       "      <td>19.0</td>\n",
       "      <td>22.0</td>\n",
       "    </tr>\n",
       "    <tr>\n",
       "      <th>4</th>\n",
       "      <td>powermax rubber factori</td>\n",
       "      <td>co one</td>\n",
       "      <td>0</td>\n",
       "      <td>powermax factori</td>\n",
       "      <td>one</td>\n",
       "      <td>14.0</td>\n",
       "      <td>0.875000</td>\n",
       "      <td>0.000000</td>\n",
       "      <td>0.0</td>\n",
       "      <td>0.597222</td>\n",
       "      <td>14.0</td>\n",
       "      <td>17.0</td>\n",
       "    </tr>\n",
       "    <tr>\n",
       "      <th>5</th>\n",
       "      <td>tress a</td>\n",
       "      <td>longyou industri park zhejiang</td>\n",
       "      <td>0</td>\n",
       "      <td>tress</td>\n",
       "      <td>longyou park zhejiang</td>\n",
       "      <td>19.0</td>\n",
       "      <td>0.904762</td>\n",
       "      <td>0.000000</td>\n",
       "      <td>0.0</td>\n",
       "      <td>0.415873</td>\n",
       "      <td>19.0</td>\n",
       "      <td>24.0</td>\n",
       "    </tr>\n",
       "    <tr>\n",
       "      <th>...</th>\n",
       "      <td>...</td>\n",
       "      <td>...</td>\n",
       "      <td>...</td>\n",
       "      <td>...</td>\n",
       "      <td>...</td>\n",
       "      <td>...</td>\n",
       "      <td>...</td>\n",
       "      <td>...</td>\n",
       "      <td>...</td>\n",
       "      <td>...</td>\n",
       "      <td>...</td>\n",
       "      <td>...</td>\n",
       "    </tr>\n",
       "    <tr>\n",
       "      <th>497815</th>\n",
       "      <td>bit mat product</td>\n",
       "      <td>the goodyear tire and rubber compani</td>\n",
       "      <td>0</td>\n",
       "      <td>bit mat</td>\n",
       "      <td>goodyear compani</td>\n",
       "      <td>13.0</td>\n",
       "      <td>0.812500</td>\n",
       "      <td>0.000000</td>\n",
       "      <td>0.0</td>\n",
       "      <td>0.427579</td>\n",
       "      <td>13.0</td>\n",
       "      <td>21.0</td>\n",
       "    </tr>\n",
       "    <tr>\n",
       "      <th>497816</th>\n",
       "      <td>bnd trade co ltd</td>\n",
       "      <td>zhong shan yue liang economy trade imp exp co ltd</td>\n",
       "      <td>0</td>\n",
       "      <td>bnd</td>\n",
       "      <td>zhong shan yue liang economy</td>\n",
       "      <td>27.0</td>\n",
       "      <td>0.964286</td>\n",
       "      <td>0.272727</td>\n",
       "      <td>0.0</td>\n",
       "      <td>0.456349</td>\n",
       "      <td>27.0</td>\n",
       "      <td>29.0</td>\n",
       "    </tr>\n",
       "    <tr>\n",
       "      <th>497817</th>\n",
       "      <td>xeikon industri co ltd Of dongguan citi</td>\n",
       "      <td>Yi cheng trade co ltd Of dongguan citi</td>\n",
       "      <td>0</td>\n",
       "      <td>xeikon</td>\n",
       "      <td>cheng</td>\n",
       "      <td>6.0</td>\n",
       "      <td>1.000000</td>\n",
       "      <td>0.500000</td>\n",
       "      <td>0.0</td>\n",
       "      <td>0.577778</td>\n",
       "      <td>6.0</td>\n",
       "      <td>9.0</td>\n",
       "    </tr>\n",
       "    <tr>\n",
       "      <th>497818</th>\n",
       "      <td>shanghai kechuan trade co ltd</td>\n",
       "      <td>shanghai m g stationeri inc</td>\n",
       "      <td>0</td>\n",
       "      <td>kechuan</td>\n",
       "      <td>stationeri</td>\n",
       "      <td>9.0</td>\n",
       "      <td>0.900000</td>\n",
       "      <td>0.111111</td>\n",
       "      <td>0.0</td>\n",
       "      <td>0.495238</td>\n",
       "      <td>9.0</td>\n",
       "      <td>15.0</td>\n",
       "    </tr>\n",
       "    <tr>\n",
       "      <th>497819</th>\n",
       "      <td>dih wei industri co</td>\n",
       "      <td>burlington industri corpor</td>\n",
       "      <td>0</td>\n",
       "      <td>dih wei</td>\n",
       "      <td>burlington</td>\n",
       "      <td>9.0</td>\n",
       "      <td>0.900000</td>\n",
       "      <td>0.166667</td>\n",
       "      <td>0.0</td>\n",
       "      <td>0.414286</td>\n",
       "      <td>9.0</td>\n",
       "      <td>15.0</td>\n",
       "    </tr>\n",
       "  </tbody>\n",
       "</table>\n",
       "<p>497819 rows × 12 columns</p>\n",
       "</div>"
      ],
      "text/plain": [
       "                                          name_1  \\\n",
       "pair_id                                            \n",
       "1                               iko industri ltd   \n",
       "2                           apcotex industri ltd   \n",
       "3                  rishichem distributor pvt ltd   \n",
       "4                        powermax rubber factori   \n",
       "5                                        tress a   \n",
       "...                                          ...   \n",
       "497815                           bit mat product   \n",
       "497816                          bnd trade co ltd   \n",
       "497817   xeikon industri co ltd Of dongguan citi   \n",
       "497818             shanghai kechuan trade co ltd   \n",
       "497819                       dih wei industri co   \n",
       "\n",
       "                                                    name_2  is_duplicate  \\\n",
       "pair_id                                                                    \n",
       "1                             enorm industri trade pvt ltd             0   \n",
       "2                           technocraft industri india ltd             0   \n",
       "3                                                      dsa             0   \n",
       "4                                                   co one             0   \n",
       "5                           longyou industri park zhejiang             0   \n",
       "...                                                    ...           ...   \n",
       "497815                the goodyear tire and rubber compani             0   \n",
       "497816   zhong shan yue liang economy trade imp exp co ltd             0   \n",
       "497817              Yi cheng trade co ltd Of dongguan citi             0   \n",
       "497818                         shanghai m g stationeri inc             0   \n",
       "497819                          burlington industri corpor             0   \n",
       "\n",
       "                       tokens1                       tokens2  levenstein  \\\n",
       "pair_id                                                                    \n",
       "1                          iko                         enorm         4.0   \n",
       "2                      apcotex                   technocraft         9.0   \n",
       "3        rishichem distributor                           dsa        19.0   \n",
       "4             powermax factori                           one        14.0   \n",
       "5                        tress         longyou park zhejiang        19.0   \n",
       "...                        ...                           ...         ...   \n",
       "497815                 bit mat              goodyear compani        13.0   \n",
       "497816                     bnd  zhong shan yue liang economy        27.0   \n",
       "497817                  xeikon                         cheng         6.0   \n",
       "497818                 kechuan                    stationeri         9.0   \n",
       "497819                 dih wei                    burlington         9.0   \n",
       "\n",
       "         norm_levenstein  jacaard_sim  cos_sim  jaro_winkler  damerau  qram  \n",
       "pair_id                                                                      \n",
       "1               0.800000     0.333333      0.0      0.511111      4.0   6.0  \n",
       "2               0.818182     0.400000      0.0      0.478355      9.0  14.0  \n",
       "3               0.904762     0.000000      0.0      0.460317     19.0  22.0  \n",
       "4               0.875000     0.000000      0.0      0.597222     14.0  17.0  \n",
       "5               0.904762     0.000000      0.0      0.415873     19.0  24.0  \n",
       "...                  ...          ...      ...           ...      ...   ...  \n",
       "497815          0.812500     0.000000      0.0      0.427579     13.0  21.0  \n",
       "497816          0.964286     0.272727      0.0      0.456349     27.0  29.0  \n",
       "497817          1.000000     0.500000      0.0      0.577778      6.0   9.0  \n",
       "497818          0.900000     0.111111      0.0      0.495238      9.0  15.0  \n",
       "497819          0.900000     0.166667      0.0      0.414286      9.0  15.0  \n",
       "\n",
       "[497819 rows x 12 columns]"
      ]
     },
     "execution_count": 224,
     "metadata": {},
     "output_type": "execute_result"
    }
   ],
   "source": [
    "train"
   ]
  },
  {
   "cell_type": "code",
   "execution_count": 225,
   "metadata": {},
   "outputs": [],
   "source": [
    "from sklearn.model_selection import StratifiedShuffleSplit"
   ]
  },
  {
   "cell_type": "code",
   "execution_count": 226,
   "metadata": {},
   "outputs": [],
   "source": [
    "FTS = [\"levenstein\", \"jacaard_sim\", \"cos_sim\", 'jaro_winkler', 'damerau']\n",
    "THR = 0.99"
   ]
  },
  {
   "cell_type": "code",
   "execution_count": 227,
   "metadata": {},
   "outputs": [
    {
     "data": {
      "text/html": [
       "<div>\n",
       "<style scoped>\n",
       "    .dataframe tbody tr th:only-of-type {\n",
       "        vertical-align: middle;\n",
       "    }\n",
       "\n",
       "    .dataframe tbody tr th {\n",
       "        vertical-align: top;\n",
       "    }\n",
       "\n",
       "    .dataframe thead th {\n",
       "        text-align: right;\n",
       "    }\n",
       "</style>\n",
       "<table border=\"1\" class=\"dataframe\">\n",
       "  <thead>\n",
       "    <tr style=\"text-align: right;\">\n",
       "      <th></th>\n",
       "      <th>levenstein</th>\n",
       "      <th>jacaard_sim</th>\n",
       "      <th>cos_sim</th>\n",
       "      <th>jaro_winkler</th>\n",
       "      <th>damerau</th>\n",
       "    </tr>\n",
       "  </thead>\n",
       "  <tbody>\n",
       "    <tr>\n",
       "      <th>levenstein</th>\n",
       "      <td>1.000000</td>\n",
       "      <td>-0.231387</td>\n",
       "      <td>-0.073679</td>\n",
       "      <td>-0.002287</td>\n",
       "      <td>0.999941</td>\n",
       "    </tr>\n",
       "    <tr>\n",
       "      <th>jacaard_sim</th>\n",
       "      <td>-0.231387</td>\n",
       "      <td>1.000000</td>\n",
       "      <td>0.219125</td>\n",
       "      <td>0.056649</td>\n",
       "      <td>-0.231417</td>\n",
       "    </tr>\n",
       "    <tr>\n",
       "      <th>cos_sim</th>\n",
       "      <td>-0.073679</td>\n",
       "      <td>0.219125</td>\n",
       "      <td>1.000000</td>\n",
       "      <td>0.241262</td>\n",
       "      <td>-0.073664</td>\n",
       "    </tr>\n",
       "    <tr>\n",
       "      <th>jaro_winkler</th>\n",
       "      <td>-0.002287</td>\n",
       "      <td>0.056649</td>\n",
       "      <td>0.241262</td>\n",
       "      <td>1.000000</td>\n",
       "      <td>-0.002883</td>\n",
       "    </tr>\n",
       "    <tr>\n",
       "      <th>damerau</th>\n",
       "      <td>0.999941</td>\n",
       "      <td>-0.231417</td>\n",
       "      <td>-0.073664</td>\n",
       "      <td>-0.002883</td>\n",
       "      <td>1.000000</td>\n",
       "    </tr>\n",
       "  </tbody>\n",
       "</table>\n",
       "</div>"
      ],
      "text/plain": [
       "              levenstein  jacaard_sim   cos_sim  jaro_winkler   damerau\n",
       "levenstein      1.000000    -0.231387 -0.073679     -0.002287  0.999941\n",
       "jacaard_sim    -0.231387     1.000000  0.219125      0.056649 -0.231417\n",
       "cos_sim        -0.073679     0.219125  1.000000      0.241262 -0.073664\n",
       "jaro_winkler   -0.002287     0.056649  0.241262      1.000000 -0.002883\n",
       "damerau         0.999941    -0.231417 -0.073664     -0.002883  1.000000"
      ]
     },
     "execution_count": 227,
     "metadata": {},
     "output_type": "execute_result"
    }
   ],
   "source": [
    "train[FTS].corr()"
   ]
  },
  {
   "cell_type": "code",
   "execution_count": 228,
   "metadata": {},
   "outputs": [],
   "source": [
    "split = StratifiedShuffleSplit(5, train_size=0.8, random_state=12345)\n",
    "tridx, cvidx = list(split.split(train[FTS], train[\"is_duplicate\"]))[0]"
   ]
  },
  {
   "cell_type": "code",
   "execution_count": 229,
   "metadata": {},
   "outputs": [
    {
     "data": {
      "text/plain": [
       "LogisticRegression(class_weight='balanced', random_state=12345)"
      ]
     },
     "execution_count": 229,
     "metadata": {},
     "output_type": "execute_result"
    }
   ],
   "source": [
    "model = LogisticRegression(class_weight='balanced', random_state=12345)\n",
    "model.fit(train.iloc[tridx][FTS].values,\n",
    "          train.iloc[tridx][\"is_duplicate\"].values)"
   ]
  },
  {
   "cell_type": "code",
   "execution_count": 230,
   "metadata": {},
   "outputs": [],
   "source": [
    "tr_preds = model.predict_proba(train.iloc[tridx][FTS].values)\n",
    "cv_preds = model.predict_proba(train.iloc[cvidx][FTS].values)"
   ]
  },
  {
   "cell_type": "code",
   "execution_count": 231,
   "metadata": {},
   "outputs": [],
   "source": [
    "tr_preds = (tr_preds[:, 1] > THR).astype(np.int)\n",
    "cv_preds = (cv_preds[:, 1] > THR).astype(np.int)"
   ]
  },
  {
   "cell_type": "code",
   "execution_count": 232,
   "metadata": {},
   "outputs": [
    {
     "name": "stdout",
     "output_type": "stream",
     "text": [
      "              precision    recall  f1-score   support\n",
      "\n",
      "           0       1.00      1.00      1.00    395329\n",
      "           1       0.49      0.34      0.40      2926\n",
      "\n",
      "    accuracy                           0.99    398255\n",
      "   macro avg       0.74      0.67      0.70    398255\n",
      "weighted avg       0.99      0.99      0.99    398255\n",
      "\n"
     ]
    }
   ],
   "source": [
    "print(classification_report(train.iloc[tridx][\"is_duplicate\"].values, tr_preds))"
   ]
  },
  {
   "cell_type": "code",
   "execution_count": 233,
   "metadata": {},
   "outputs": [
    {
     "name": "stdout",
     "output_type": "stream",
     "text": [
      "              precision    recall  f1-score   support\n",
      "\n",
      "           0       1.00      1.00      1.00     98832\n",
      "           1       0.48      0.34      0.40       732\n",
      "\n",
      "    accuracy                           0.99     99564\n",
      "   macro avg       0.74      0.67      0.70     99564\n",
      "weighted avg       0.99      0.99      0.99     99564\n",
      "\n"
     ]
    }
   ],
   "source": [
    "print(classification_report(train.iloc[cvidx][\"is_duplicate\"].values, cv_preds))"
   ]
  },
  {
   "cell_type": "code",
   "execution_count": 155,
   "metadata": {},
   "outputs": [
    {
     "name": "stdout",
     "output_type": "stream",
     "text": [
      "0.5658901547355892\n",
      "0.5652759084791386\n"
     ]
    }
   ],
   "source": [
    "print(f1_score(train.iloc[tridx][\"is_duplicate\"].values, tr_preds))\n",
    "print(f1_score(train.iloc[cvidx][\"is_duplicate\"].values, cv_preds))"
   ]
  },
  {
   "cell_type": "code",
   "execution_count": 782,
   "metadata": {},
   "outputs": [
    {
     "data": {
      "text/plain": [
       "0.5652759084791386"
      ]
     },
     "execution_count": 782,
     "metadata": {},
     "output_type": "execute_result"
    }
   ],
   "source": [
    "0.5658901547355892 132\n",
    "0.5652759084791386"
   ]
  },
  {
   "cell_type": "code",
   "execution_count": 697,
   "metadata": {},
   "outputs": [
    {
     "data": {
      "text/html": [
       "<div>\n",
       "<style scoped>\n",
       "    .dataframe tbody tr th:only-of-type {\n",
       "        vertical-align: middle;\n",
       "    }\n",
       "\n",
       "    .dataframe tbody tr th {\n",
       "        vertical-align: top;\n",
       "    }\n",
       "\n",
       "    .dataframe thead th {\n",
       "        text-align: right;\n",
       "    }\n",
       "</style>\n",
       "<table border=\"1\" class=\"dataframe\">\n",
       "  <thead>\n",
       "    <tr style=\"text-align: right;\">\n",
       "      <th></th>\n",
       "      <th>name_1</th>\n",
       "      <th>name_2</th>\n",
       "      <th>is_duplicate</th>\n",
       "      <th>tokens1</th>\n",
       "      <th>tokens2</th>\n",
       "      <th>levenstein</th>\n",
       "      <th>norm_levenstein</th>\n",
       "      <th>jacaard_sim</th>\n",
       "      <th>cos_sim</th>\n",
       "      <th>jaro_winkler</th>\n",
       "      <th>damerau</th>\n",
       "      <th>qram</th>\n",
       "    </tr>\n",
       "  </thead>\n",
       "  <tbody>\n",
       "    <tr>\n",
       "      <th>210165</th>\n",
       "      <td>mitsui chemic america</td>\n",
       "      <td>gme chemic s pte ltd</td>\n",
       "      <td>0</td>\n",
       "      <td>mitsui</td>\n",
       "      <td>gme pte</td>\n",
       "      <td>6.0</td>\n",
       "      <td>0.857143</td>\n",
       "      <td>0.142857</td>\n",
       "      <td>0.0</td>\n",
       "      <td>0.436508</td>\n",
       "      <td>6.0</td>\n",
       "      <td>11.0</td>\n",
       "    </tr>\n",
       "    <tr>\n",
       "      <th>319435</th>\n",
       "      <td>K C logist co ltd</td>\n",
       "      <td>sunni intern logist inc</td>\n",
       "      <td>0</td>\n",
       "      <td></td>\n",
       "      <td>sunni</td>\n",
       "      <td>5.0</td>\n",
       "      <td>1.000000</td>\n",
       "      <td>0.125000</td>\n",
       "      <td>0.0</td>\n",
       "      <td>0.000000</td>\n",
       "      <td>5.0</td>\n",
       "      <td>4.0</td>\n",
       "    </tr>\n",
       "    <tr>\n",
       "      <th>103757</th>\n",
       "      <td>Ol usa</td>\n",
       "      <td>imeri usa inc</td>\n",
       "      <td>0</td>\n",
       "      <td></td>\n",
       "      <td>imeri</td>\n",
       "      <td>5.0</td>\n",
       "      <td>1.000000</td>\n",
       "      <td>0.250000</td>\n",
       "      <td>0.0</td>\n",
       "      <td>0.000000</td>\n",
       "      <td>5.0</td>\n",
       "      <td>4.0</td>\n",
       "    </tr>\n",
       "  </tbody>\n",
       "</table>\n",
       "</div>"
      ],
      "text/plain": [
       "                       name_1                   name_2  is_duplicate tokens1  \\\n",
       "210165  mitsui chemic america     gme chemic s pte ltd             0  mitsui   \n",
       "319435      K C logist co ltd  sunni intern logist inc             0           \n",
       "103757                 Ol usa            imeri usa inc             0           \n",
       "\n",
       "        tokens2  levenstein  norm_levenstein  jacaard_sim  cos_sim  \\\n",
       "210165  gme pte         6.0         0.857143     0.142857      0.0   \n",
       "319435    sunni         5.0         1.000000     0.125000      0.0   \n",
       "103757    imeri         5.0         1.000000     0.250000      0.0   \n",
       "\n",
       "        jaro_winkler  damerau  qram  \n",
       "210165      0.436508      6.0  11.0  \n",
       "319435      0.000000      5.0   4.0  \n",
       "103757      0.000000      5.0   4.0  "
      ]
     },
     "execution_count": 697,
     "metadata": {},
     "output_type": "execute_result"
    }
   ],
   "source": [
    "train.iloc[tridx].head(3)"
   ]
  },
  {
   "cell_type": "code",
   "execution_count": 790,
   "metadata": {},
   "outputs": [
    {
     "data": {
      "text/plain": [
       "pair_id\n",
       "451292    0\n",
       "359557    0\n",
       "273592    0\n",
       "371329    0\n",
       "315110    0\n",
       "         ..\n",
       "253711    0\n",
       "242222    0\n",
       "497265    0\n",
       "495057    0\n",
       "214183    0\n",
       "Name: is_duplicate, Length: 99564, dtype: int64"
      ]
     },
     "execution_count": 790,
     "metadata": {},
     "output_type": "execute_result"
    }
   ],
   "source": [
    "train.iloc[cvidx]['is_duplicate'].values"
   ]
  },
  {
   "cell_type": "code",
   "execution_count": 792,
   "metadata": {},
   "outputs": [
    {
     "data": {
      "text/plain": [
       "array([0, 0, 0, ..., 0, 0, 0])"
      ]
     },
     "execution_count": 792,
     "metadata": {},
     "output_type": "execute_result"
    }
   ],
   "source": [
    "cv_preds"
   ]
  },
  {
   "cell_type": "code",
   "execution_count": null,
   "metadata": {},
   "outputs": [],
   "source": [
    "def show_error()"
   ]
  },
  {
   "cell_type": "markdown",
   "metadata": {},
   "source": [
    "# Сабмит"
   ]
  },
  {
   "cell_type": "code",
   "execution_count": 698,
   "metadata": {},
   "outputs": [
    {
     "data": {
      "text/plain": [
       "213249"
      ]
     },
     "execution_count": 698,
     "metadata": {},
     "output_type": "execute_result"
    }
   ],
   "source": [
    "len((model.predict_proba(test[FTS].values)[:, 1] > THR).astype(np.int))"
   ]
  },
  {
   "cell_type": "code",
   "execution_count": 699,
   "metadata": {},
   "outputs": [
    {
     "data": {
      "text/plain": [
       "0    212566\n",
       "1       683\n",
       "Name: is_duplicate, dtype: int64"
      ]
     },
     "execution_count": 699,
     "metadata": {},
     "output_type": "execute_result"
    }
   ],
   "source": [
    "test['is_duplicate'] = (model.predict_proba(test[FTS].values)[:, 1] > THR).astype(np.int)\n",
    "test['is_duplicate'].value_counts()"
   ]
  },
  {
   "cell_type": "code",
   "execution_count": 700,
   "metadata": {},
   "outputs": [
    {
     "data": {
      "text/html": [
       "<div>\n",
       "<style scoped>\n",
       "    .dataframe tbody tr th:only-of-type {\n",
       "        vertical-align: middle;\n",
       "    }\n",
       "\n",
       "    .dataframe tbody tr th {\n",
       "        vertical-align: top;\n",
       "    }\n",
       "\n",
       "    .dataframe thead th {\n",
       "        text-align: right;\n",
       "    }\n",
       "</style>\n",
       "<table border=\"1\" class=\"dataframe\">\n",
       "  <thead>\n",
       "    <tr style=\"text-align: right;\">\n",
       "      <th></th>\n",
       "      <th>is_duplicate</th>\n",
       "    </tr>\n",
       "    <tr>\n",
       "      <th>pair_id</th>\n",
       "      <th></th>\n",
       "    </tr>\n",
       "  </thead>\n",
       "  <tbody>\n",
       "    <tr>\n",
       "      <th>1</th>\n",
       "      <td>0</td>\n",
       "    </tr>\n",
       "    <tr>\n",
       "      <th>2</th>\n",
       "      <td>0</td>\n",
       "    </tr>\n",
       "    <tr>\n",
       "      <th>3</th>\n",
       "      <td>0</td>\n",
       "    </tr>\n",
       "    <tr>\n",
       "      <th>4</th>\n",
       "      <td>0</td>\n",
       "    </tr>\n",
       "    <tr>\n",
       "      <th>5</th>\n",
       "      <td>0</td>\n",
       "    </tr>\n",
       "    <tr>\n",
       "      <th>...</th>\n",
       "      <td>...</td>\n",
       "    </tr>\n",
       "    <tr>\n",
       "      <th>213245</th>\n",
       "      <td>0</td>\n",
       "    </tr>\n",
       "    <tr>\n",
       "      <th>213246</th>\n",
       "      <td>0</td>\n",
       "    </tr>\n",
       "    <tr>\n",
       "      <th>213247</th>\n",
       "      <td>0</td>\n",
       "    </tr>\n",
       "    <tr>\n",
       "      <th>213248</th>\n",
       "      <td>0</td>\n",
       "    </tr>\n",
       "    <tr>\n",
       "      <th>213249</th>\n",
       "      <td>0</td>\n",
       "    </tr>\n",
       "  </tbody>\n",
       "</table>\n",
       "<p>213249 rows × 1 columns</p>\n",
       "</div>"
      ],
      "text/plain": [
       "         is_duplicate\n",
       "pair_id              \n",
       "1                   0\n",
       "2                   0\n",
       "3                   0\n",
       "4                   0\n",
       "5                   0\n",
       "...               ...\n",
       "213245              0\n",
       "213246              0\n",
       "213247              0\n",
       "213248              0\n",
       "213249              0\n",
       "\n",
       "[213249 rows x 1 columns]"
      ]
     },
     "execution_count": 700,
     "metadata": {},
     "output_type": "execute_result"
    }
   ],
   "source": [
    "output = pd.DataFrame(test['is_duplicate'])\n",
    "output"
   ]
  },
  {
   "cell_type": "code",
   "execution_count": 701,
   "metadata": {},
   "outputs": [],
   "source": [
    "output.to_csv('output.csv')"
   ]
  },
  {
   "cell_type": "code",
   "execution_count": 702,
   "metadata": {},
   "outputs": [
    {
     "data": {
      "text/html": [
       "<div>\n",
       "<style scoped>\n",
       "    .dataframe tbody tr th:only-of-type {\n",
       "        vertical-align: middle;\n",
       "    }\n",
       "\n",
       "    .dataframe tbody tr th {\n",
       "        vertical-align: top;\n",
       "    }\n",
       "\n",
       "    .dataframe thead th {\n",
       "        text-align: right;\n",
       "    }\n",
       "</style>\n",
       "<table border=\"1\" class=\"dataframe\">\n",
       "  <thead>\n",
       "    <tr style=\"text-align: right;\">\n",
       "      <th></th>\n",
       "      <th>is_duplicate</th>\n",
       "    </tr>\n",
       "    <tr>\n",
       "      <th>pair_id</th>\n",
       "      <th></th>\n",
       "    </tr>\n",
       "  </thead>\n",
       "  <tbody>\n",
       "    <tr>\n",
       "      <th>1</th>\n",
       "      <td>0</td>\n",
       "    </tr>\n",
       "    <tr>\n",
       "      <th>2</th>\n",
       "      <td>0</td>\n",
       "    </tr>\n",
       "    <tr>\n",
       "      <th>3</th>\n",
       "      <td>0</td>\n",
       "    </tr>\n",
       "    <tr>\n",
       "      <th>4</th>\n",
       "      <td>0</td>\n",
       "    </tr>\n",
       "    <tr>\n",
       "      <th>5</th>\n",
       "      <td>0</td>\n",
       "    </tr>\n",
       "    <tr>\n",
       "      <th>...</th>\n",
       "      <td>...</td>\n",
       "    </tr>\n",
       "    <tr>\n",
       "      <th>213245</th>\n",
       "      <td>0</td>\n",
       "    </tr>\n",
       "    <tr>\n",
       "      <th>213246</th>\n",
       "      <td>0</td>\n",
       "    </tr>\n",
       "    <tr>\n",
       "      <th>213247</th>\n",
       "      <td>0</td>\n",
       "    </tr>\n",
       "    <tr>\n",
       "      <th>213248</th>\n",
       "      <td>0</td>\n",
       "    </tr>\n",
       "    <tr>\n",
       "      <th>213249</th>\n",
       "      <td>0</td>\n",
       "    </tr>\n",
       "  </tbody>\n",
       "</table>\n",
       "<p>213249 rows × 1 columns</p>\n",
       "</div>"
      ],
      "text/plain": [
       "         is_duplicate\n",
       "pair_id              \n",
       "1                   0\n",
       "2                   0\n",
       "3                   0\n",
       "4                   0\n",
       "5                   0\n",
       "...               ...\n",
       "213245              0\n",
       "213246              0\n",
       "213247              0\n",
       "213248              0\n",
       "213249              0\n",
       "\n",
       "[213249 rows x 1 columns]"
      ]
     },
     "execution_count": 702,
     "metadata": {},
     "output_type": "execute_result"
    }
   ],
   "source": [
    "output"
   ]
  }
 ],
 "metadata": {
  "colab": {
   "name": "Untitled1.ipynb",
   "provenance": []
  },
  "kernelspec": {
   "display_name": "Python 3",
   "language": "python",
   "name": "python3"
  },
  "language_info": {
   "codemirror_mode": {
    "name": "ipython",
    "version": 3
   },
   "file_extension": ".py",
   "mimetype": "text/x-python",
   "name": "python",
   "nbconvert_exporter": "python",
   "pygments_lexer": "ipython3",
   "version": "3.7.6"
  }
 },
 "nbformat": 4,
 "nbformat_minor": 4
}
